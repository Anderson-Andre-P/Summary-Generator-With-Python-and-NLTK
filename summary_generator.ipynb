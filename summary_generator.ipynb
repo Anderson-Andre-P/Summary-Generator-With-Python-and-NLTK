{
  "nbformat": 4,
  "nbformat_minor": 0,
  "metadata": {
    "colab": {
      "provenance": [],
      "authorship_tag": "ABX9TyNIoBojGq8W/yKNSZ8ibBup",
      "include_colab_link": true
    },
    "kernelspec": {
      "name": "python3",
      "display_name": "Python 3"
    },
    "language_info": {
      "name": "python"
    }
  },
  "cells": [
    {
      "cell_type": "markdown",
      "metadata": {
        "id": "view-in-github",
        "colab_type": "text"
      },
      "source": [
        "<a href=\"https://colab.research.google.com/github/Anderson-Andre-P/Summary-Generator-With-Python-and-NLTK/blob/main/summary_generator.ipynb\" target=\"_parent\"><img src=\"https://colab.research.google.com/assets/colab-badge.svg\" alt=\"Open In Colab\"/></a>"
      ]
    },
    {
      "cell_type": "code",
      "source": [
        "import nltk\n",
        "nltk.download('punkt')\n",
        "nltk.download('stopwords')\n",
        "import heapq\n",
        "from nltk.corpus import stopwords\n",
        "from nltk.tokenize import word_tokenize, sent_tokenize\n",
        "from nltk.stem import PorterStemmer"
      ],
      "metadata": {
        "colab": {
          "base_uri": "https://localhost:8080/"
        },
        "id": "9zMmAtZXKnRo",
        "outputId": "b1b090ad-c620-4d4a-aad5-c3c7bd5ce5bd"
      },
      "execution_count": 1,
      "outputs": [
        {
          "output_type": "stream",
          "name": "stderr",
          "text": [
            "[nltk_data] Downloading package punkt to /root/nltk_data...\n",
            "[nltk_data]   Unzipping tokenizers/punkt.zip.\n",
            "[nltk_data] Downloading package stopwords to /root/nltk_data...\n",
            "[nltk_data]   Unzipping corpora/stopwords.zip.\n"
          ]
        }
      ]
    },
    {
      "cell_type": "code",
      "source": [
        "# Definindo o texto que deve ser resumido\n",
        "texto = \"Neste período, a sucessão presidencial e as eleições ocorreram sem interrupções até a ditadura militar em 1964. Em 45, com o fim da Segunda Guerra, a ditadura varguista é criticada abertamente. Desta maneira,o Exército aplica um golpe e institui eleições, de onde sai vencedor o general Eurico Gaspar Dutra. Vargas o sucede e este mandato é definido por uma intensa campanha pela nacionalização do petróleo que culmina na criação da Petrobras. No entanto, o possível envolvimento do presidente com a tentativa de assassinato de Carlos Lacerda precipita seu suicídio, em 1954. Com a eleição de Juscelino Kubitschek, o Brasil entra na fase do desenvolvimentismo onde os recursos são canalizados para a construção de Brasília e a substituição de importações. JK, como ficou conhecido, é sucedido por Jânio Quadros, num governo que se aproximará de países socialistas como Cuba e China. Jânio Quadros renuncia e seu vice-presidente, João Goulart (Jango) não é bem-visto pela maioria dos políticos por sua tendência progressista. Apesar disso, Jango consegue tomar posse, mas os militares e a sociedade civil dão um golpe em março de 64, quando se instala o regime militar.\""
      ],
      "metadata": {
        "id": "DhvMVEp-jkGs"
      },
      "execution_count": 2,
      "outputs": []
    },
    {
      "cell_type": "code",
      "source": [
        "# Tokenizando o texto em sentenças e palavras\n",
        "sentencas = sent_tokenize(texto)\n",
        "palavras = word_tokenize(texto.lower())"
      ],
      "metadata": {
        "id": "XrVSusJQjkhj"
      },
      "execution_count": 3,
      "outputs": []
    },
    {
      "cell_type": "code",
      "source": [
        "# Removendo as stopwords e pontuações\n",
        "stop_words = set(stopwords.words('portuguese'))\n",
        "palavras_sem_stopwords = [palavra for palavra in palavras if palavra not in stop_words and palavra.isalpha()]"
      ],
      "metadata": {
        "id": "5WMBpSOZjkwb"
      },
      "execution_count": 4,
      "outputs": []
    },
    {
      "cell_type": "code",
      "source": [
        "# Aplicando o stemmer para reduzir as palavras para sua raiz\n",
        "ps = PorterStemmer()\n",
        "palavras_stemmed = [ps.stem(palavra) for palavra in palavras_sem_stopwords]"
      ],
      "metadata": {
        "id": "w5O40e6Zjqo7"
      },
      "execution_count": 5,
      "outputs": []
    },
    {
      "cell_type": "code",
      "source": [
        "# Criando um dicionário de frequência de palavras\n",
        "frequencia_palavras = nltk.FreqDist(palavras_stemmed)"
      ],
      "metadata": {
        "id": "dC8-oz9pjsRc"
      },
      "execution_count": 6,
      "outputs": []
    },
    {
      "cell_type": "code",
      "source": [
        "# Calculando a pontuação de cada sentença com base nas frequências das palavras\n",
        "pontuacao_sentencas = {}\n",
        "for sentenca in sentencas:\n",
        "    for palavra in word_tokenize(sentenca.lower()):\n",
        "        if palavra in palavras_sem_stopwords:\n",
        "            if sentenca not in pontuacao_sentencas:\n",
        "                pontuacao_sentencas[sentenca] = frequencia_palavras[ps.stem(palavra)]\n",
        "            else:\n",
        "                pontuacao_sentencas[sentenca] += frequencia_palavras[ps.stem(palavra)]"
      ],
      "metadata": {
        "id": "jNAXrLAVjt6k"
      },
      "execution_count": 7,
      "outputs": []
    },
    {
      "cell_type": "code",
      "source": [
        "# Selecionando as melhores sentenças com base nas maiores pontuações\n",
        "melhores_sentencas = heapq.nlargest(3, pontuacao_sentencas, key=pontuacao_sentencas.get)\n",
        "resumo = ' '.join(melhores_sentencas)"
      ],
      "metadata": {
        "id": "9K_VkzFxjwXc"
      },
      "execution_count": 8,
      "outputs": []
    },
    {
      "cell_type": "code",
      "execution_count": 9,
      "metadata": {
        "colab": {
          "base_uri": "https://localhost:8080/"
        },
        "id": "vWEgIfQJKj9q",
        "outputId": "00d1f3a7-d041-4312-ad2f-effcf215e115"
      },
      "outputs": [
        {
          "output_type": "stream",
          "name": "stdout",
          "text": [
            "Resumo:  Apesar disso, Jango consegue tomar posse, mas os militares e a sociedade civil dão um golpe em março de 64, quando se instala o regime militar. Desta maneira,o Exército aplica um golpe e institui eleições, de onde sai vencedor o general Eurico Gaspar Dutra. Com a eleição de Juscelino Kubitschek, o Brasil entra na fase do desenvolvimentismo onde os recursos são canalizados para a construção de Brasília e a substituição de importações.\n"
          ]
        }
      ],
      "source": [
        "# Imprimindo o resumo gerado\n",
        "print(\"Resumo: \", resumo)"
      ]
    }
  ]
}