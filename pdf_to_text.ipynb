{
  "nbformat": 4,
  "nbformat_minor": 0,
  "metadata": {
    "colab": {
      "provenance": [],
      "authorship_tag": "ABX9TyPwritQCFAMNslXccBZPze9",
      "include_colab_link": true
    },
    "kernelspec": {
      "name": "python3",
      "display_name": "Python 3"
    },
    "language_info": {
      "name": "python"
    }
  },
  "cells": [
    {
      "cell_type": "markdown",
      "metadata": {
        "id": "view-in-github",
        "colab_type": "text"
      },
      "source": [
        "<a href=\"https://colab.research.google.com/github/Anderson-Andre-P/Summary-Generator-With-Python-and-NLTK/blob/main/pdf_to_text.ipynb\" target=\"_parent\"><img src=\"https://colab.research.google.com/assets/colab-badge.svg\" alt=\"Open In Colab\"/></a>"
      ]
    },
    {
      "cell_type": "code",
      "source": [
        "!pip install PyPDF2"
      ],
      "metadata": {
        "colab": {
          "base_uri": "https://localhost:8080/"
        },
        "id": "rhO8UiFMN8jD",
        "outputId": "d3818ab5-2bde-49ad-f5f4-7a6a84b05364"
      },
      "execution_count": 3,
      "outputs": [
        {
          "output_type": "stream",
          "name": "stdout",
          "text": [
            "Looking in indexes: https://pypi.org/simple, https://us-python.pkg.dev/colab-wheels/public/simple/\n",
            "Collecting PyPDF2\n",
            "  Downloading pypdf2-3.0.1-py3-none-any.whl (232 kB)\n",
            "\u001b[2K     \u001b[90m━━━━━━━━━━━━━━━━━━━━━━━━━━━━━━━━━━━━━━\u001b[0m \u001b[32m232.6/232.6 KB\u001b[0m \u001b[31m12.4 MB/s\u001b[0m eta \u001b[36m0:00:00\u001b[0m\n",
            "\u001b[?25hRequirement already satisfied: typing_extensions>=3.10.0.0 in /usr/local/lib/python3.9/dist-packages (from PyPDF2) (4.5.0)\n",
            "Installing collected packages: PyPDF2\n",
            "Successfully installed PyPDF2-3.0.1\n"
          ]
        }
      ]
    },
    {
      "cell_type": "code",
      "execution_count": 28,
      "metadata": {
        "id": "AxyzYwvINzKY"
      },
      "outputs": [],
      "source": [
        "import PyPDF2\n",
        "\n",
        "from google.colab import files"
      ]
    },
    {
      "cell_type": "code",
      "source": [
        "uploaded = files.upload()"
      ],
      "metadata": {
        "colab": {
          "base_uri": "https://localhost:8080/",
          "height": 73
        },
        "id": "GgougkidO5xi",
        "outputId": "cce8de1c-f66c-44cc-c37b-e191a574dacb"
      },
      "execution_count": 6,
      "outputs": [
        {
          "output_type": "display_data",
          "data": {
            "text/plain": [
              "<IPython.core.display.HTML object>"
            ],
            "text/html": [
              "\n",
              "     <input type=\"file\" id=\"files-47884191-af21-4fc5-a32f-7aba378aaab7\" name=\"files[]\" multiple disabled\n",
              "        style=\"border:none\" />\n",
              "     <output id=\"result-47884191-af21-4fc5-a32f-7aba378aaab7\">\n",
              "      Upload widget is only available when the cell has been executed in the\n",
              "      current browser session. Please rerun this cell to enable.\n",
              "      </output>\n",
              "      <script>// Copyright 2017 Google LLC\n",
              "//\n",
              "// Licensed under the Apache License, Version 2.0 (the \"License\");\n",
              "// you may not use this file except in compliance with the License.\n",
              "// You may obtain a copy of the License at\n",
              "//\n",
              "//      http://www.apache.org/licenses/LICENSE-2.0\n",
              "//\n",
              "// Unless required by applicable law or agreed to in writing, software\n",
              "// distributed under the License is distributed on an \"AS IS\" BASIS,\n",
              "// WITHOUT WARRANTIES OR CONDITIONS OF ANY KIND, either express or implied.\n",
              "// See the License for the specific language governing permissions and\n",
              "// limitations under the License.\n",
              "\n",
              "/**\n",
              " * @fileoverview Helpers for google.colab Python module.\n",
              " */\n",
              "(function(scope) {\n",
              "function span(text, styleAttributes = {}) {\n",
              "  const element = document.createElement('span');\n",
              "  element.textContent = text;\n",
              "  for (const key of Object.keys(styleAttributes)) {\n",
              "    element.style[key] = styleAttributes[key];\n",
              "  }\n",
              "  return element;\n",
              "}\n",
              "\n",
              "// Max number of bytes which will be uploaded at a time.\n",
              "const MAX_PAYLOAD_SIZE = 100 * 1024;\n",
              "\n",
              "function _uploadFiles(inputId, outputId) {\n",
              "  const steps = uploadFilesStep(inputId, outputId);\n",
              "  const outputElement = document.getElementById(outputId);\n",
              "  // Cache steps on the outputElement to make it available for the next call\n",
              "  // to uploadFilesContinue from Python.\n",
              "  outputElement.steps = steps;\n",
              "\n",
              "  return _uploadFilesContinue(outputId);\n",
              "}\n",
              "\n",
              "// This is roughly an async generator (not supported in the browser yet),\n",
              "// where there are multiple asynchronous steps and the Python side is going\n",
              "// to poll for completion of each step.\n",
              "// This uses a Promise to block the python side on completion of each step,\n",
              "// then passes the result of the previous step as the input to the next step.\n",
              "function _uploadFilesContinue(outputId) {\n",
              "  const outputElement = document.getElementById(outputId);\n",
              "  const steps = outputElement.steps;\n",
              "\n",
              "  const next = steps.next(outputElement.lastPromiseValue);\n",
              "  return Promise.resolve(next.value.promise).then((value) => {\n",
              "    // Cache the last promise value to make it available to the next\n",
              "    // step of the generator.\n",
              "    outputElement.lastPromiseValue = value;\n",
              "    return next.value.response;\n",
              "  });\n",
              "}\n",
              "\n",
              "/**\n",
              " * Generator function which is called between each async step of the upload\n",
              " * process.\n",
              " * @param {string} inputId Element ID of the input file picker element.\n",
              " * @param {string} outputId Element ID of the output display.\n",
              " * @return {!Iterable<!Object>} Iterable of next steps.\n",
              " */\n",
              "function* uploadFilesStep(inputId, outputId) {\n",
              "  const inputElement = document.getElementById(inputId);\n",
              "  inputElement.disabled = false;\n",
              "\n",
              "  const outputElement = document.getElementById(outputId);\n",
              "  outputElement.innerHTML = '';\n",
              "\n",
              "  const pickedPromise = new Promise((resolve) => {\n",
              "    inputElement.addEventListener('change', (e) => {\n",
              "      resolve(e.target.files);\n",
              "    });\n",
              "  });\n",
              "\n",
              "  const cancel = document.createElement('button');\n",
              "  inputElement.parentElement.appendChild(cancel);\n",
              "  cancel.textContent = 'Cancel upload';\n",
              "  const cancelPromise = new Promise((resolve) => {\n",
              "    cancel.onclick = () => {\n",
              "      resolve(null);\n",
              "    };\n",
              "  });\n",
              "\n",
              "  // Wait for the user to pick the files.\n",
              "  const files = yield {\n",
              "    promise: Promise.race([pickedPromise, cancelPromise]),\n",
              "    response: {\n",
              "      action: 'starting',\n",
              "    }\n",
              "  };\n",
              "\n",
              "  cancel.remove();\n",
              "\n",
              "  // Disable the input element since further picks are not allowed.\n",
              "  inputElement.disabled = true;\n",
              "\n",
              "  if (!files) {\n",
              "    return {\n",
              "      response: {\n",
              "        action: 'complete',\n",
              "      }\n",
              "    };\n",
              "  }\n",
              "\n",
              "  for (const file of files) {\n",
              "    const li = document.createElement('li');\n",
              "    li.append(span(file.name, {fontWeight: 'bold'}));\n",
              "    li.append(span(\n",
              "        `(${file.type || 'n/a'}) - ${file.size} bytes, ` +\n",
              "        `last modified: ${\n",
              "            file.lastModifiedDate ? file.lastModifiedDate.toLocaleDateString() :\n",
              "                                    'n/a'} - `));\n",
              "    const percent = span('0% done');\n",
              "    li.appendChild(percent);\n",
              "\n",
              "    outputElement.appendChild(li);\n",
              "\n",
              "    const fileDataPromise = new Promise((resolve) => {\n",
              "      const reader = new FileReader();\n",
              "      reader.onload = (e) => {\n",
              "        resolve(e.target.result);\n",
              "      };\n",
              "      reader.readAsArrayBuffer(file);\n",
              "    });\n",
              "    // Wait for the data to be ready.\n",
              "    let fileData = yield {\n",
              "      promise: fileDataPromise,\n",
              "      response: {\n",
              "        action: 'continue',\n",
              "      }\n",
              "    };\n",
              "\n",
              "    // Use a chunked sending to avoid message size limits. See b/62115660.\n",
              "    let position = 0;\n",
              "    do {\n",
              "      const length = Math.min(fileData.byteLength - position, MAX_PAYLOAD_SIZE);\n",
              "      const chunk = new Uint8Array(fileData, position, length);\n",
              "      position += length;\n",
              "\n",
              "      const base64 = btoa(String.fromCharCode.apply(null, chunk));\n",
              "      yield {\n",
              "        response: {\n",
              "          action: 'append',\n",
              "          file: file.name,\n",
              "          data: base64,\n",
              "        },\n",
              "      };\n",
              "\n",
              "      let percentDone = fileData.byteLength === 0 ?\n",
              "          100 :\n",
              "          Math.round((position / fileData.byteLength) * 100);\n",
              "      percent.textContent = `${percentDone}% done`;\n",
              "\n",
              "    } while (position < fileData.byteLength);\n",
              "  }\n",
              "\n",
              "  // All done.\n",
              "  yield {\n",
              "    response: {\n",
              "      action: 'complete',\n",
              "    }\n",
              "  };\n",
              "}\n",
              "\n",
              "scope.google = scope.google || {};\n",
              "scope.google.colab = scope.google.colab || {};\n",
              "scope.google.colab._files = {\n",
              "  _uploadFiles,\n",
              "  _uploadFilesContinue,\n",
              "};\n",
              "})(self);\n",
              "</script> "
            ]
          },
          "metadata": {}
        },
        {
          "output_type": "stream",
          "name": "stdout",
          "text": [
            "Saving Resenha Artigo - Anderson André.pdf to Resenha Artigo - Anderson André.pdf\n"
          ]
        }
      ]
    },
    {
      "cell_type": "code",
      "source": [
        "# from google.colab import drive\n",
        "# drive.mount('/content/drive')"
      ],
      "metadata": {
        "id": "vIC9YUSaQURr"
      },
      "execution_count": null,
      "outputs": []
    },
    {
      "cell_type": "code",
      "source": [
        "pdf_file = open('/content/Resenha Artigo - Anderson André.pdf', 'rb')\n",
        "pdf_reader = PyPDF2.PdfReader(pdf_file)"
      ],
      "metadata": {
        "id": "Yrir0MtIQbvT"
      },
      "execution_count": 58,
      "outputs": []
    },
    {
      "cell_type": "code",
      "source": [
        "pdf_text = \"\""
      ],
      "metadata": {
        "id": "m5eYz_zxQrCT"
      },
      "execution_count": 59,
      "outputs": []
    },
    {
      "cell_type": "code",
      "source": [
        "from PyPDF2 import PdfReader\n"
      ],
      "metadata": {
        "id": "Eglp52_IRmmd"
      },
      "execution_count": 60,
      "outputs": []
    },
    {
      "cell_type": "code",
      "source": [
        "reader = PdfReader('/content/Resenha Artigo - Anderson André.pdf')\n",
        "for page in reader.pages:\n",
        "    pdf_text += page.extract_text()\n",
        "    # print(page.extract_text())"
      ],
      "metadata": {
        "id": "Eqij9XbfQufD"
      },
      "execution_count": 61,
      "outputs": []
    },
    {
      "cell_type": "code",
      "source": [
        "print(f\"pdf page count : {len(reader.pages)}\")"
      ],
      "metadata": {
        "colab": {
          "base_uri": "https://localhost:8080/"
        },
        "id": "K5bOyRH9RWol",
        "outputId": "5ed6fc28-8499-469d-b505-9ca41b8af423"
      },
      "execution_count": 62,
      "outputs": [
        {
          "output_type": "stream",
          "name": "stdout",
          "text": [
            "pdf page count : 3\n"
          ]
        }
      ]
    },
    {
      "cell_type": "code",
      "source": [
        "print(pdf_text)"
      ],
      "metadata": {
        "colab": {
          "base_uri": "https://localhost:8080/"
        },
        "id": "B1lLzyQlR5h6",
        "outputId": "a53ec343-d54e-4856-cfa2-7e6ff051d723"
      },
      "execution_count": 63,
      "outputs": [
        {
          "output_type": "stream",
          "name": "stdout",
          "text": [
            "Nome:\n",
            "Anderson\n",
            "André\n",
            "Pereira\n",
            "Eleutério;\n",
            "RA:\n",
            "015642.\n",
            "1.\n",
            "Introdução\n",
            "Segundo\n",
            "Fadel\n",
            "e\n",
            "Silveira\n",
            "(2010),\n",
            "as\n",
            "metodologias\n",
            "ágeis\n",
            "são\n",
            "muito\n",
            "utilizadas\n",
            "por\n",
            "empresas\n",
            "desenvolvedoras\n",
            "de\n",
            "software\n",
            "que\n",
            "visam\n",
            "administrar\n",
            "melhor\n",
            "seus\n",
            "recursos\n",
            "e\n",
            "o\n",
            "tempo\n",
            "disponível\n",
            "para\n",
            "desenvolvimento\n",
            "das\n",
            "atividades.\n",
            "Um\n",
            "dos\n",
            "objetivos\n",
            "que\n",
            "as\n",
            "organizações\n",
            "têm\n",
            "ao\n",
            "utilizar\n",
            "as\n",
            "metodologias\n",
            "ágeis\n",
            "é\n",
            "melhorar\n",
            "o\n",
            "fluxo\n",
            "do\n",
            "desenvolvimento\n",
            "de\n",
            "software,\n",
            "alocando\n",
            "menos\n",
            "recursos\n",
            "na\n",
            "produção\n",
            "e\n",
            "aumentando\n",
            "a\n",
            "eficiência\n",
            "das\n",
            "equipes,\n",
            "isso\n",
            "melhora\n",
            "a\n",
            "qualidade\n",
            "dos\n",
            "produtos\n",
            "desenvolvidos.\n",
            "Os\n",
            "mesmos\n",
            "autores,\n",
            "informam\n",
            "que\n",
            "o\n",
            "um\n",
            "encontro\n",
            "realizado\n",
            "por\n",
            "17\n",
            "desenvolvedores\n",
            "de\n",
            "software\n",
            "identificou\n",
            "12\n",
            "princípios\n",
            "e\n",
            "4\n",
            "premissas\n",
            "que\n",
            "estão\n",
            "presentes\n",
            "no\n",
            "manifesto\n",
            "ágil.\n",
            "As\n",
            "4\n",
            "premissas\n",
            "podem\n",
            "ser\n",
            "representados\n",
            "nos\n",
            "seguintes\n",
            "tópicos:\n",
            "●\n",
            "Valorizar\n",
            "pessoas\n",
            "e\n",
            "interações\n",
            "acima\n",
            "de\n",
            "processos\n",
            "e\n",
            "ferramentas;\n",
            "●\n",
            "Priorizar\n",
            "o\n",
            "software\n",
            "funcional\n",
            "em\n",
            "vez\n",
            "de\n",
            "documentação\n",
            "detalhada;\n",
            "●\n",
            "Dar\n",
            "importância\n",
            "à\n",
            "colaboração\n",
            "com\n",
            "o\n",
            "cliente\n",
            "em\n",
            "vez\n",
            "de\n",
            "negociação\n",
            "de\n",
            "contratos;\n",
            "●\n",
            "Ser\n",
            "adaptável\n",
            "às\n",
            "mudanças\n",
            "em\n",
            "vez\n",
            "de\n",
            "seguir\n",
            "um\n",
            "plano\n",
            "inicial\n",
            "rigidamente;\n",
            "Os\n",
            "12\n",
            "princípios\n",
            "de\n",
            "acordo\n",
            "com\n",
            "Beck,\n",
            "et\n",
            "al\n",
            "(2001),\n",
            "que\n",
            "foram\n",
            "citadas\n",
            "anteriormente,\n",
            "podem\n",
            "ser\n",
            "representadas\n",
            "pelos\n",
            "seguintes\n",
            "pontos:\n",
            "1.\n",
            "A\n",
            "prioridade\n",
            "é\n",
            "satisfazer\n",
            "o\n",
            "cliente\n",
            "entregando\n",
            "software\n",
            "com\n",
            "valor\n",
            "agregado\n",
            "de\n",
            "forma\n",
            "contínua\n",
            "e\n",
            "adiantada;\n",
            "2.\n",
            "As\n",
            "mudanças\n",
            "nos\n",
            "requisitos\n",
            "são\n",
            "bem-vindas\n",
            "mesmo\n",
            "em\n",
            "estágios\n",
            "avançados\n",
            "de\n",
            "desenvolvimento.\n",
            "Processos\n",
            "ágeis\n",
            "aproveitam\n",
            "essas\n",
            "mudanças\n",
            "para\n",
            "proporcionar\n",
            "vantagem\n",
            "competitiva\n",
            "ao\n",
            "cliente;\n",
            "3.\n",
            "Entregas\n",
            "frequentes\n",
            "de\n",
            "software\n",
            "funcional\n",
            "em\n",
            "períodos\n",
            "de\n",
            "poucas\n",
            "semanas\n",
            "a\n",
            "poucos\n",
            "meses,\n",
            "com\n",
            "preferência\n",
            "para\n",
            "intervalos\n",
            "menores;\n",
            "4.\n",
            "As\n",
            "pessoas\n",
            "de\n",
            "negócio\n",
            "e\n",
            "desenvolvedores\n",
            "devem\n",
            "trabalhar\n",
            "juntos\n",
            "diariamente\n",
            "durante\n",
            "todo\n",
            "o\n",
            "projeto;\n",
            "5.\n",
            "Os\n",
            "projetos\n",
            "devem\n",
            "ser\n",
            "construídos\n",
            "em\n",
            "torno\n",
            "de\n",
            "indivíduos\n",
            "motivados,\n",
            "com\n",
            "ambiente\n",
            "e\n",
            "suporte\n",
            "adequados\n",
            "e\n",
            "confiança\n",
            "para\n",
            "fazer\n",
            "o\n",
            "trabalho;6.\n",
            "A\n",
            "melhor\n",
            "forma\n",
            "de\n",
            "transmitir\n",
            "informações\n",
            "para\n",
            "e\n",
            "entre\n",
            "equipes\n",
            "de\n",
            "desenvolvimento\n",
            "é\n",
            "por\n",
            "meio\n",
            "de\n",
            "conversas\n",
            "face\n",
            "a\n",
            "face;\n",
            "7.\n",
            "Software\n",
            "funcionando\n",
            "é\n",
            "a\n",
            "medida\n",
            "primária\n",
            "de\n",
            "progresso;\n",
            "8.\n",
            "Processos\n",
            "ágeis\n",
            "promovem\n",
            "desenvolvimento\n",
            "sustentável,\n",
            "permitindo\n",
            "que\n",
            "patrocinadores,\n",
            "desenvolvedores\n",
            "e\n",
            "usuários\n",
            "mantenham\n",
            "um\n",
            "ritmo\n",
            "constante\n",
            "indefinidamente;\n",
            "9.\n",
            "A\n",
            "atenção\n",
            "contínua\n",
            "à\n",
            "excelência\n",
            "técnica\n",
            "e\n",
            "ao\n",
            "bom\n",
            "design\n",
            "aumenta\n",
            "a\n",
            "agilidade;\n",
            "10.\n",
            "A\n",
            "simplicidade\n",
            "é\n",
            "essencial\n",
            "para\n",
            "maximizar\n",
            "a\n",
            "quantidade\n",
            "de\n",
            "trabalho\n",
            "não\n",
            "realizado;\n",
            "11.\n",
            "As\n",
            "melhores\n",
            "arquiteturas,\n",
            "requisitos\n",
            "e\n",
            "designs\n",
            "emergem\n",
            "de\n",
            "equipes\n",
            "auto-organizáveis;\n",
            "12.\n",
            "A\n",
            "equipe\n",
            "deve\n",
            "refletir\n",
            "regularmente\n",
            "sobre\n",
            "como\n",
            "se\n",
            "tornar\n",
            "mais\n",
            "eficaz\n",
            "e\n",
            "ajustar\n",
            "seu\n",
            "comportamento\n",
            "de\n",
            "acordo.\n",
            "1.1.\n",
            "Scrum\n",
            "Fadel\n",
            "e\n",
            "Silveira\n",
            "(2010)\n",
            "diz\n",
            "que\n",
            "no\n",
            "Scrum,\n",
            "não\n",
            "é\n",
            "definida\n",
            "nenhuma\n",
            "técnica\n",
            "para\n",
            "o\n",
            "desenvolvimento\n",
            "de\n",
            "software\n",
            "durante\n",
            "sua\n",
            "implementação,\n",
            "na\n",
            "verdade,\n",
            "ele\n",
            "se\n",
            "concentra\n",
            "em\n",
            "descrever\n",
            "como\n",
            "cada\n",
            "membro\n",
            "da\n",
            "equipe\n",
            "deve\n",
            "se\n",
            "comportar\n",
            "durante\n",
            "o\n",
            "trabalho\n",
            "para\n",
            "se\n",
            "tornar\n",
            "flexível,\n",
            "já\n",
            "que\n",
            "o\n",
            "ambiente\n",
            "é\n",
            "repleto\n",
            "de\n",
            "mudanças\n",
            "frequentes.\n",
            "Filho,\n",
            "D.\n",
            "L.\n",
            "B.\n",
            "(2008)\n",
            "diz\n",
            "que\n",
            "o\n",
            "Scrum\n",
            "possui\n",
            "alguns\n",
            "elementos\n",
            "de\n",
            "apoio,\n",
            "como:\n",
            "product\n",
            "backlog\n",
            ",\n",
            "backlog\n",
            "selecionado,\n",
            "sprint\n",
            "backlog\n",
            ",\n",
            "backlog\n",
            "de\n",
            "impedimentos\n",
            "e\n",
            "gráficos\n",
            "de\n",
            "suporte.\n",
            "Para\n",
            "uma\n",
            "melhor\n",
            "organização,\n",
            "Filho,\n",
            "D.\n",
            "L.\n",
            "B.\n",
            "(\n",
            "2008)\n",
            "informa\n",
            "que\n",
            "dentro\n",
            "do\n",
            "Scrum\n",
            "são\n",
            "definidos\n",
            "alguns\n",
            "papéis\n",
            "e\n",
            "responsabilidades\n",
            "que\n",
            "são\n",
            "atreladas\n",
            "a\n",
            "cada\n",
            "indivíduo\n",
            "que\n",
            "esteja\n",
            "envolvido\n",
            "no\n",
            "trabalho,\n",
            "alguns\n",
            "exemplos,\n",
            "são:\n",
            "cliente,\n",
            "gerente,\n",
            "equipe\n",
            "Scrum,\n",
            "Scrum\n",
            "Master\n",
            "e\n",
            "o\n",
            "responsável\n",
            "pelo\n",
            "produto.\n",
            "Fadel\n",
            "e\n",
            "Silveira\n",
            "(\n",
            "2010)\n",
            "ainda\n",
            "diz\n",
            "que\n",
            "a\n",
            "metodologia\n",
            "ágil\n",
            "Scrum\n",
            "tem\n",
            "um\n",
            "processo\n",
            "que\n",
            "busca\n",
            "realizar\n",
            "entregas\n",
            "de\n",
            "maneira\n",
            "contínua,\n",
            "onde\n",
            "cada\n",
            "entrega\n",
            "é\n",
            "definida\n",
            "pelo\n",
            "product\n",
            "backlog\n",
            "e\n",
            "as\n",
            "entregas\n",
            "são\n",
            "realizadas\n",
            "em\n",
            "ciclos\n",
            "de\n",
            "sprint\n",
            "que\n",
            "são\n",
            "os\n",
            "prazospré\n",
            "determinados\n",
            "para\n",
            "entregar\n",
            "as\n",
            "atividades.\n",
            "Além\n",
            "disso,\n",
            "cada\n",
            "sprint\n",
            "possui\n",
            "reuniões\n",
            "diárias\n",
            "de\n",
            "até\n",
            "10\n",
            "minutos\n",
            "e\n",
            "uma\n",
            "reunião\n",
            "final\n",
            "quando\n",
            "cada\n",
            "sprint\n",
            "é\n",
            "finalizado.\n",
            "O\n",
            "processo\n",
            "do\n",
            "Scrum\n",
            "pode\n",
            "ser\n",
            "observado\n",
            "na\n",
            "figura\n",
            "1.\n",
            "Figura\n",
            "01\n",
            "-\n",
            "Ciclo\n",
            "do\n",
            "Scrum\n",
            "Fonte:\n",
            "https://www.wrike.com/scrum-guide/scrum-sprints/\n",
            "FADEL,\n",
            "Aline;\n",
            "SILVEIRA,\n",
            "Henrique.\n",
            "Metodologias\n",
            "ágeis\n",
            "no\n",
            "contexto\n",
            "de\n",
            "desenvolvimento\n",
            "de\n",
            "so\n",
            "ware:\n",
            "XP,\n",
            "Scrum\n",
            "e\n",
            "Lean.\n",
            "Academia\n",
            "-\n",
            "Accelerating\n",
            "the\n",
            "world‘s\n",
            "research.,\n",
            "ceset.unicamp.br ,\n",
            "2012.\n",
            "BECK,\n",
            "K.,\n",
            "et\n",
            "al.:\n",
            "Manifesto\n",
            "for\n",
            "Agile\n",
            "Software\n",
            "Development.\n",
            "2001.\n",
            "Disponível\n",
            "em\n",
            "<http://www .agilemanifesto.o.org>.\n",
            "Acesso\n",
            "em\n",
            "Março\n",
            "de\n",
            "2023.\n",
            "FILHO,\n",
            "D.\n",
            "L.\n",
            "B.\n",
            "Experiências\n",
            "com\n",
            "desenvolvimento\n",
            "ágil.\n",
            "Instituto\n",
            "de\n",
            "Matemática\n",
            "e\n",
            "Estatística\n",
            "da\n",
            "Universidade\n",
            "de\n",
            "São\n",
            "Paulo\n",
            "(Dissertação\n",
            "de\n",
            "Mestrado).\n",
            "2008.\n",
            "Guide\n",
            "to\n",
            "Scrum\n",
            "Sprints\n",
            "|\n",
            "Wrike\n",
            "Scrum\n",
            "Guide.\n",
            "Disponível\n",
            "em:\n",
            "https://www .wrike.com/scrum-guide/scrum-sprints/.\n",
            "Acesso\n",
            "em\n",
            "06\n",
            "de\n",
            "março\n",
            "de\n",
            "2023.\n",
            "\n"
          ]
        }
      ]
    },
    {
      "cell_type": "code",
      "source": [
        "pdf_text = ' '.join(pdf_text.split())"
      ],
      "metadata": {
        "id": "3KFDFgfpZja0"
      },
      "execution_count": 64,
      "outputs": []
    },
    {
      "cell_type": "code",
      "source": [
        "print(pdf_text)"
      ],
      "metadata": {
        "colab": {
          "base_uri": "https://localhost:8080/"
        },
        "id": "PtymfhGkZls8",
        "outputId": "ac5112bb-fd41-4890-dc3d-96e8eff322e5"
      },
      "execution_count": 65,
      "outputs": [
        {
          "output_type": "stream",
          "name": "stdout",
          "text": [
            "Nome: Anderson André Pereira Eleutério; RA: 015642. 1. Introdução Segundo Fadel e Silveira (2010), as metodologias ágeis são muito utilizadas por empresas desenvolvedoras de software que visam administrar melhor seus recursos e o tempo disponível para desenvolvimento das atividades. Um dos objetivos que as organizações têm ao utilizar as metodologias ágeis é melhorar o fluxo do desenvolvimento de software, alocando menos recursos na produção e aumentando a eficiência das equipes, isso melhora a qualidade dos produtos desenvolvidos. Os mesmos autores, informam que o um encontro realizado por 17 desenvolvedores de software identificou 12 princípios e 4 premissas que estão presentes no manifesto ágil. As 4 premissas podem ser representados nos seguintes tópicos: ● Valorizar pessoas e interações acima de processos e ferramentas; ● Priorizar o software funcional em vez de documentação detalhada; ● Dar importância à colaboração com o cliente em vez de negociação de contratos; ● Ser adaptável às mudanças em vez de seguir um plano inicial rigidamente; Os 12 princípios de acordo com Beck, et al (2001), que foram citadas anteriormente, podem ser representadas pelos seguintes pontos: 1. A prioridade é satisfazer o cliente entregando software com valor agregado de forma contínua e adiantada; 2. As mudanças nos requisitos são bem-vindas mesmo em estágios avançados de desenvolvimento. Processos ágeis aproveitam essas mudanças para proporcionar vantagem competitiva ao cliente; 3. Entregas frequentes de software funcional em períodos de poucas semanas a poucos meses, com preferência para intervalos menores; 4. As pessoas de negócio e desenvolvedores devem trabalhar juntos diariamente durante todo o projeto; 5. Os projetos devem ser construídos em torno de indivíduos motivados, com ambiente e suporte adequados e confiança para fazer o trabalho;6. A melhor forma de transmitir informações para e entre equipes de desenvolvimento é por meio de conversas face a face; 7. Software funcionando é a medida primária de progresso; 8. Processos ágeis promovem desenvolvimento sustentável, permitindo que patrocinadores, desenvolvedores e usuários mantenham um ritmo constante indefinidamente; 9. A atenção contínua à excelência técnica e ao bom design aumenta a agilidade; 10. A simplicidade é essencial para maximizar a quantidade de trabalho não realizado; 11. As melhores arquiteturas, requisitos e designs emergem de equipes auto-organizáveis; 12. A equipe deve refletir regularmente sobre como se tornar mais eficaz e ajustar seu comportamento de acordo. 1.1. Scrum Fadel e Silveira (2010) diz que no Scrum, não é definida nenhuma técnica para o desenvolvimento de software durante sua implementação, na verdade, ele se concentra em descrever como cada membro da equipe deve se comportar durante o trabalho para se tornar flexível, já que o ambiente é repleto de mudanças frequentes. Filho, D. L. B. (2008) diz que o Scrum possui alguns elementos de apoio, como: product backlog , backlog selecionado, sprint backlog , backlog de impedimentos e gráficos de suporte. Para uma melhor organização, Filho, D. L. B. ( 2008) informa que dentro do Scrum são definidos alguns papéis e responsabilidades que são atreladas a cada indivíduo que esteja envolvido no trabalho, alguns exemplos, são: cliente, gerente, equipe Scrum, Scrum Master e o responsável pelo produto. Fadel e Silveira ( 2010) ainda diz que a metodologia ágil Scrum tem um processo que busca realizar entregas de maneira contínua, onde cada entrega é definida pelo product backlog e as entregas são realizadas em ciclos de sprint que são os prazospré determinados para entregar as atividades. Além disso, cada sprint possui reuniões diárias de até 10 minutos e uma reunião final quando cada sprint é finalizado. O processo do Scrum pode ser observado na figura 1. Figura 01 - Ciclo do Scrum Fonte: https://www.wrike.com/scrum-guide/scrum-sprints/ FADEL, Aline; SILVEIRA, Henrique. Metodologias ágeis no contexto de desenvolvimento de so ware: XP, Scrum e Lean. Academia - Accelerating the world‘s research., ceset.unicamp.br , 2012. BECK, K., et al.: Manifesto for Agile Software Development. 2001. Disponível em <http://www .agilemanifesto.o.org>. Acesso em Março de 2023. FILHO, D. L. B. Experiências com desenvolvimento ágil. Instituto de Matemática e Estatística da Universidade de São Paulo (Dissertação de Mestrado). 2008. Guide to Scrum Sprints | Wrike Scrum Guide. Disponível em: https://www .wrike.com/scrum-guide/scrum-sprints/. Acesso em 06 de março de 2023.\n"
          ]
        }
      ]
    },
    {
      "cell_type": "code",
      "source": [
        "import nltk\n",
        "nltk.download('punkt')\n",
        "nltk.download('stopwords')\n",
        "import heapq\n",
        "from nltk.corpus import stopwords\n",
        "from nltk.tokenize import word_tokenize, sent_tokenize\n",
        "from nltk.stem import PorterStemmer"
      ],
      "metadata": {
        "colab": {
          "base_uri": "https://localhost:8080/"
        },
        "id": "srRegv9iYaNK",
        "outputId": "e89b1a43-41ae-48a8-fa8d-775f0c05d045"
      },
      "execution_count": 66,
      "outputs": [
        {
          "output_type": "stream",
          "name": "stderr",
          "text": [
            "[nltk_data] Downloading package punkt to /root/nltk_data...\n",
            "[nltk_data]   Package punkt is already up-to-date!\n",
            "[nltk_data] Downloading package stopwords to /root/nltk_data...\n",
            "[nltk_data]   Package stopwords is already up-to-date!\n"
          ]
        }
      ]
    },
    {
      "cell_type": "code",
      "source": [
        "# Tokenizando o texto em sentenças e palavras\n",
        "sentencas = sent_tokenize(pdf_text)\n",
        "palavras = word_tokenize(pdf_text.lower())"
      ],
      "metadata": {
        "id": "_UgmFZyUYbaF"
      },
      "execution_count": 67,
      "outputs": []
    },
    {
      "cell_type": "code",
      "source": [
        "print(palavras)"
      ],
      "metadata": {
        "colab": {
          "base_uri": "https://localhost:8080/"
        },
        "id": "vzbpXnljYlKr",
        "outputId": "856e57f9-94df-4b2a-b9fc-87f4b1f65c4e"
      },
      "execution_count": 68,
      "outputs": [
        {
          "output_type": "stream",
          "name": "stdout",
          "text": [
            "['nome', ':', 'anderson', 'andré', 'pereira', 'eleutério', ';', 'ra', ':', '015642', '.', '1.', 'introdução', 'segundo', 'fadel', 'e', 'silveira', '(', '2010', ')', ',', 'as', 'metodologias', 'ágeis', 'são', 'muito', 'utilizadas', 'por', 'empresas', 'desenvolvedoras', 'de', 'software', 'que', 'visam', 'administrar', 'melhor', 'seus', 'recursos', 'e', 'o', 'tempo', 'disponível', 'para', 'desenvolvimento', 'das', 'atividades', '.', 'um', 'dos', 'objetivos', 'que', 'as', 'organizações', 'têm', 'ao', 'utilizar', 'as', 'metodologias', 'ágeis', 'é', 'melhorar', 'o', 'fluxo', 'do', 'desenvolvimento', 'de', 'software', ',', 'alocando', 'menos', 'recursos', 'na', 'produção', 'e', 'aumentando', 'a', 'eficiência', 'das', 'equipes', ',', 'isso', 'melhora', 'a', 'qualidade', 'dos', 'produtos', 'desenvolvidos', '.', 'os', 'mesmos', 'autores', ',', 'informam', 'que', 'o', 'um', 'encontro', 'realizado', 'por', '17', 'desenvolvedores', 'de', 'software', 'identificou', '12', 'princípios', 'e', '4', 'premissas', 'que', 'estão', 'presentes', 'no', 'manifesto', 'ágil', '.', 'as', '4', 'premissas', 'podem', 'ser', 'representados', 'nos', 'seguintes', 'tópicos', ':', '●', 'valorizar', 'pessoas', 'e', 'interações', 'acima', 'de', 'processos', 'e', 'ferramentas', ';', '●', 'priorizar', 'o', 'software', 'funcional', 'em', 'vez', 'de', 'documentação', 'detalhada', ';', '●', 'dar', 'importância', 'à', 'colaboração', 'com', 'o', 'cliente', 'em', 'vez', 'de', 'negociação', 'de', 'contratos', ';', '●', 'ser', 'adaptável', 'às', 'mudanças', 'em', 'vez', 'de', 'seguir', 'um', 'plano', 'inicial', 'rigidamente', ';', 'os', '12', 'princípios', 'de', 'acordo', 'com', 'beck', ',', 'et', 'al', '(', '2001', ')', ',', 'que', 'foram', 'citadas', 'anteriormente', ',', 'podem', 'ser', 'representadas', 'pelos', 'seguintes', 'pontos', ':', '1.', 'a', 'prioridade', 'é', 'satisfazer', 'o', 'cliente', 'entregando', 'software', 'com', 'valor', 'agregado', 'de', 'forma', 'contínua', 'e', 'adiantada', ';', '2.', 'as', 'mudanças', 'nos', 'requisitos', 'são', 'bem-vindas', 'mesmo', 'em', 'estágios', 'avançados', 'de', 'desenvolvimento', '.', 'processos', 'ágeis', 'aproveitam', 'essas', 'mudanças', 'para', 'proporcionar', 'vantagem', 'competitiva', 'ao', 'cliente', ';', '3.', 'entregas', 'frequentes', 'de', 'software', 'funcional', 'em', 'períodos', 'de', 'poucas', 'semanas', 'a', 'poucos', 'meses', ',', 'com', 'preferência', 'para', 'intervalos', 'menores', ';', '4.', 'as', 'pessoas', 'de', 'negócio', 'e', 'desenvolvedores', 'devem', 'trabalhar', 'juntos', 'diariamente', 'durante', 'todo', 'o', 'projeto', ';', '5.', 'os', 'projetos', 'devem', 'ser', 'construídos', 'em', 'torno', 'de', 'indivíduos', 'motivados', ',', 'com', 'ambiente', 'e', 'suporte', 'adequados', 'e', 'confiança', 'para', 'fazer', 'o', 'trabalho', ';', '6.', 'a', 'melhor', 'forma', 'de', 'transmitir', 'informações', 'para', 'e', 'entre', 'equipes', 'de', 'desenvolvimento', 'é', 'por', 'meio', 'de', 'conversas', 'face', 'a', 'face', ';', '7.', 'software', 'funcionando', 'é', 'a', 'medida', 'primária', 'de', 'progresso', ';', '8.', 'processos', 'ágeis', 'promovem', 'desenvolvimento', 'sustentável', ',', 'permitindo', 'que', 'patrocinadores', ',', 'desenvolvedores', 'e', 'usuários', 'mantenham', 'um', 'ritmo', 'constante', 'indefinidamente', ';', '9.', 'a', 'atenção', 'contínua', 'à', 'excelência', 'técnica', 'e', 'ao', 'bom', 'design', 'aumenta', 'a', 'agilidade', ';', '10.', 'a', 'simplicidade', 'é', 'essencial', 'para', 'maximizar', 'a', 'quantidade', 'de', 'trabalho', 'não', 'realizado', ';', '11.', 'as', 'melhores', 'arquiteturas', ',', 'requisitos', 'e', 'designs', 'emergem', 'de', 'equipes', 'auto-organizáveis', ';', '12.', 'a', 'equipe', 'deve', 'refletir', 'regularmente', 'sobre', 'como', 'se', 'tornar', 'mais', 'eficaz', 'e', 'ajustar', 'seu', 'comportamento', 'de', 'acordo', '.', '1.1.', 'scrum', 'fadel', 'e', 'silveira', '(', '2010', ')', 'diz', 'que', 'no', 'scrum', ',', 'não', 'é', 'definida', 'nenhuma', 'técnica', 'para', 'o', 'desenvolvimento', 'de', 'software', 'durante', 'sua', 'implementação', ',', 'na', 'verdade', ',', 'ele', 'se', 'concentra', 'em', 'descrever', 'como', 'cada', 'membro', 'da', 'equipe', 'deve', 'se', 'comportar', 'durante', 'o', 'trabalho', 'para', 'se', 'tornar', 'flexível', ',', 'já', 'que', 'o', 'ambiente', 'é', 'repleto', 'de', 'mudanças', 'frequentes', '.', 'filho', ',', 'd.', 'l.', 'b', '.', '(', '2008', ')', 'diz', 'que', 'o', 'scrum', 'possui', 'alguns', 'elementos', 'de', 'apoio', ',', 'como', ':', 'product', 'backlog', ',', 'backlog', 'selecionado', ',', 'sprint', 'backlog', ',', 'backlog', 'de', 'impedimentos', 'e', 'gráficos', 'de', 'suporte', '.', 'para', 'uma', 'melhor', 'organização', ',', 'filho', ',', 'd.', 'l.', 'b', '.', '(', '2008', ')', 'informa', 'que', 'dentro', 'do', 'scrum', 'são', 'definidos', 'alguns', 'papéis', 'e', 'responsabilidades', 'que', 'são', 'atreladas', 'a', 'cada', 'indivíduo', 'que', 'esteja', 'envolvido', 'no', 'trabalho', ',', 'alguns', 'exemplos', ',', 'são', ':', 'cliente', ',', 'gerente', ',', 'equipe', 'scrum', ',', 'scrum', 'master', 'e', 'o', 'responsável', 'pelo', 'produto', '.', 'fadel', 'e', 'silveira', '(', '2010', ')', 'ainda', 'diz', 'que', 'a', 'metodologia', 'ágil', 'scrum', 'tem', 'um', 'processo', 'que', 'busca', 'realizar', 'entregas', 'de', 'maneira', 'contínua', ',', 'onde', 'cada', 'entrega', 'é', 'definida', 'pelo', 'product', 'backlog', 'e', 'as', 'entregas', 'são', 'realizadas', 'em', 'ciclos', 'de', 'sprint', 'que', 'são', 'os', 'prazospré', 'determinados', 'para', 'entregar', 'as', 'atividades', '.', 'além', 'disso', ',', 'cada', 'sprint', 'possui', 'reuniões', 'diárias', 'de', 'até', '10', 'minutos', 'e', 'uma', 'reunião', 'final', 'quando', 'cada', 'sprint', 'é', 'finalizado', '.', 'o', 'processo', 'do', 'scrum', 'pode', 'ser', 'observado', 'na', 'figura', '1.', 'figura', '01', '-', 'ciclo', 'do', 'scrum', 'fonte', ':', 'https', ':', '//www.wrike.com/scrum-guide/scrum-sprints/', 'fadel', ',', 'aline', ';', 'silveira', ',', 'henrique', '.', 'metodologias', 'ágeis', 'no', 'contexto', 'de', 'desenvolvimento', 'de', 'so', 'ware', ':', 'xp', ',', 'scrum', 'e', 'lean', '.', 'academia', '-', 'accelerating', 'the', 'world', '‘', 's', 'research.', ',', 'ceset.unicamp.br', ',', '2012.', 'beck', ',', 'k.', ',', 'et', 'al', '.', ':', 'manifesto', 'for', 'agile', 'software', 'development', '.', '2001.', 'disponível', 'em', '<', 'http', ':', '//www', '.agilemanifesto.o.org', '>', '.', 'acesso', 'em', 'março', 'de', '2023.', 'filho', ',', 'd.', 'l.', 'b.', 'experiências', 'com', 'desenvolvimento', 'ágil', '.', 'instituto', 'de', 'matemática', 'e', 'estatística', 'da', 'universidade', 'de', 'são', 'paulo', '(', 'dissertação', 'de', 'mestrado', ')', '.', '2008.', 'guide', 'to', 'scrum', 'sprints', '|', 'wrike', 'scrum', 'guide', '.', 'disponível', 'em', ':', 'https', ':', '//www', '.wrike.com/scrum-guide/scrum-sprints/', '.', 'acesso', 'em', '06', 'de', 'março', 'de', '2023', '.']\n"
          ]
        }
      ]
    },
    {
      "cell_type": "code",
      "source": [
        "# Removendo as stopwords e pontuações\n",
        "stop_words = set(stopwords.words('portuguese'))\n",
        "palavras_sem_stopwords = [palavra for palavra in palavras if palavra not in stop_words and palavra.isalpha()]"
      ],
      "metadata": {
        "id": "TNBuOsQHYibx"
      },
      "execution_count": 69,
      "outputs": []
    },
    {
      "cell_type": "code",
      "source": [
        "print(palavras_sem_stopwords)"
      ],
      "metadata": {
        "colab": {
          "base_uri": "https://localhost:8080/"
        },
        "id": "p-WQr1X_YpF7",
        "outputId": "d47b06b5-e9af-4483-cd5c-32f429e7d22d"
      },
      "execution_count": 70,
      "outputs": [
        {
          "output_type": "stream",
          "name": "stdout",
          "text": [
            "['nome', 'anderson', 'andré', 'pereira', 'eleutério', 'ra', 'introdução', 'segundo', 'fadel', 'silveira', 'metodologias', 'ágeis', 'utilizadas', 'empresas', 'desenvolvedoras', 'software', 'visam', 'administrar', 'melhor', 'recursos', 'tempo', 'disponível', 'desenvolvimento', 'atividades', 'objetivos', 'organizações', 'têm', 'utilizar', 'metodologias', 'ágeis', 'melhorar', 'fluxo', 'desenvolvimento', 'software', 'alocando', 'menos', 'recursos', 'produção', 'aumentando', 'eficiência', 'equipes', 'melhora', 'qualidade', 'produtos', 'desenvolvidos', 'mesmos', 'autores', 'informam', 'encontro', 'realizado', 'desenvolvedores', 'software', 'identificou', 'princípios', 'premissas', 'presentes', 'manifesto', 'ágil', 'premissas', 'podem', 'representados', 'seguintes', 'tópicos', 'valorizar', 'pessoas', 'interações', 'acima', 'processos', 'ferramentas', 'priorizar', 'software', 'funcional', 'vez', 'documentação', 'detalhada', 'dar', 'importância', 'colaboração', 'cliente', 'vez', 'negociação', 'contratos', 'adaptável', 'mudanças', 'vez', 'seguir', 'plano', 'inicial', 'rigidamente', 'princípios', 'acordo', 'beck', 'et', 'al', 'citadas', 'anteriormente', 'podem', 'representadas', 'seguintes', 'pontos', 'prioridade', 'satisfazer', 'cliente', 'entregando', 'software', 'valor', 'agregado', 'forma', 'contínua', 'adiantada', 'mudanças', 'requisitos', 'estágios', 'avançados', 'desenvolvimento', 'processos', 'ágeis', 'aproveitam', 'mudanças', 'proporcionar', 'vantagem', 'competitiva', 'cliente', 'entregas', 'frequentes', 'software', 'funcional', 'períodos', 'poucas', 'semanas', 'poucos', 'meses', 'preferência', 'intervalos', 'menores', 'pessoas', 'negócio', 'desenvolvedores', 'devem', 'trabalhar', 'juntos', 'diariamente', 'durante', 'todo', 'projeto', 'projetos', 'devem', 'construídos', 'torno', 'indivíduos', 'motivados', 'ambiente', 'suporte', 'adequados', 'confiança', 'fazer', 'trabalho', 'melhor', 'forma', 'transmitir', 'informações', 'equipes', 'desenvolvimento', 'meio', 'conversas', 'face', 'face', 'software', 'funcionando', 'medida', 'primária', 'progresso', 'processos', 'ágeis', 'promovem', 'desenvolvimento', 'sustentável', 'permitindo', 'patrocinadores', 'desenvolvedores', 'usuários', 'mantenham', 'ritmo', 'constante', 'indefinidamente', 'atenção', 'contínua', 'excelência', 'técnica', 'bom', 'design', 'aumenta', 'agilidade', 'simplicidade', 'essencial', 'maximizar', 'quantidade', 'trabalho', 'realizado', 'melhores', 'arquiteturas', 'requisitos', 'designs', 'emergem', 'equipes', 'equipe', 'deve', 'refletir', 'regularmente', 'sobre', 'tornar', 'eficaz', 'ajustar', 'comportamento', 'acordo', 'scrum', 'fadel', 'silveira', 'diz', 'scrum', 'definida', 'nenhuma', 'técnica', 'desenvolvimento', 'software', 'durante', 'implementação', 'verdade', 'concentra', 'descrever', 'cada', 'membro', 'equipe', 'deve', 'comportar', 'durante', 'trabalho', 'tornar', 'flexível', 'ambiente', 'repleto', 'mudanças', 'frequentes', 'filho', 'b', 'diz', 'scrum', 'possui', 'alguns', 'elementos', 'apoio', 'product', 'backlog', 'backlog', 'selecionado', 'sprint', 'backlog', 'backlog', 'impedimentos', 'gráficos', 'suporte', 'melhor', 'organização', 'filho', 'b', 'informa', 'dentro', 'scrum', 'definidos', 'alguns', 'papéis', 'responsabilidades', 'atreladas', 'cada', 'indivíduo', 'envolvido', 'trabalho', 'alguns', 'exemplos', 'cliente', 'gerente', 'equipe', 'scrum', 'scrum', 'master', 'responsável', 'produto', 'fadel', 'silveira', 'ainda', 'diz', 'metodologia', 'ágil', 'scrum', 'processo', 'busca', 'realizar', 'entregas', 'maneira', 'contínua', 'onde', 'cada', 'entrega', 'definida', 'product', 'backlog', 'entregas', 'realizadas', 'ciclos', 'sprint', 'prazospré', 'determinados', 'entregar', 'atividades', 'além', 'disso', 'cada', 'sprint', 'possui', 'reuniões', 'diárias', 'minutos', 'reunião', 'final', 'cada', 'sprint', 'finalizado', 'processo', 'scrum', 'pode', 'observado', 'figura', 'figura', 'ciclo', 'scrum', 'fonte', 'https', 'fadel', 'aline', 'silveira', 'henrique', 'metodologias', 'ágeis', 'contexto', 'desenvolvimento', 'so', 'ware', 'xp', 'scrum', 'lean', 'academia', 'accelerating', 'the', 'world', 's', 'beck', 'et', 'al', 'manifesto', 'agile', 'software', 'development', 'disponível', 'http', 'acesso', 'março', 'filho', 'experiências', 'desenvolvimento', 'ágil', 'instituto', 'matemática', 'estatística', 'universidade', 'paulo', 'dissertação', 'mestrado', 'guide', 'to', 'scrum', 'sprints', 'wrike', 'scrum', 'guide', 'disponível', 'https', 'acesso', 'março']\n"
          ]
        }
      ]
    },
    {
      "cell_type": "code",
      "source": [
        "# Aplicando o stemmer para reduzir as palavras para sua raiz\n",
        "ps = PorterStemmer()\n",
        "palavras_stemmed = [ps.stem(palavra) for palavra in palavras_sem_stopwords]"
      ],
      "metadata": {
        "id": "N-kc6jlfYsRd"
      },
      "execution_count": 71,
      "outputs": []
    },
    {
      "cell_type": "code",
      "source": [
        "print(palavras_stemmed)"
      ],
      "metadata": {
        "colab": {
          "base_uri": "https://localhost:8080/"
        },
        "id": "5fEcwk-lZHYT",
        "outputId": "0797e05b-c2da-472e-a210-189e7f7c4dc4"
      },
      "execution_count": 72,
      "outputs": [
        {
          "output_type": "stream",
          "name": "stdout",
          "text": [
            "['nome', 'anderson', 'andré', 'pereira', 'eleutério', 'ra', 'introdução', 'segundo', 'fadel', 'silveira', 'metodologia', 'ágei', 'utilizada', 'empresa', 'desenvolvedora', 'softwar', 'visam', 'administrar', 'melhor', 'recurso', 'tempo', 'disponível', 'desenvolvimento', 'atividad', 'objetivo', 'organizaçõ', 'têm', 'utilizar', 'metodologia', 'ágei', 'melhorar', 'fluxo', 'desenvolvimento', 'softwar', 'alocando', 'meno', 'recurso', 'produção', 'aumentando', 'eficiência', 'equip', 'melhora', 'qualidad', 'produto', 'desenvolvido', 'mesmo', 'autor', 'informam', 'encontro', 'realizado', 'desenvolvedor', 'softwar', 'identific', 'princípio', 'premissa', 'present', 'manifesto', 'ágil', 'premissa', 'podem', 'representado', 'seguint', 'tópico', 'valorizar', 'pessoa', 'interaçõ', 'acima', 'processo', 'ferramenta', 'priorizar', 'softwar', 'funcion', 'vez', 'documentação', 'detalhada', 'dar', 'importância', 'colaboração', 'client', 'vez', 'negociação', 'contrato', 'adaptável', 'mudança', 'vez', 'seguir', 'plano', 'inici', 'rigidament', 'princípio', 'acordo', 'beck', 'et', 'al', 'citada', 'anteriorment', 'podem', 'representada', 'seguint', 'ponto', 'prioridad', 'satisfaz', 'client', 'entregando', 'softwar', 'valor', 'agregado', 'forma', 'contínua', 'adiantada', 'mudança', 'requisito', 'estágio', 'avançado', 'desenvolvimento', 'processo', 'ágei', 'aproveitam', 'mudança', 'proporcionar', 'vantagem', 'competitiva', 'client', 'entrega', 'frequent', 'softwar', 'funcion', 'período', 'pouca', 'semana', 'pouco', 'mese', 'preferência', 'intervalo', 'menor', 'pessoa', 'negócio', 'desenvolvedor', 'devem', 'trabalhar', 'junto', 'diariament', 'durant', 'todo', 'projeto', 'projeto', 'devem', 'construído', 'torno', 'indivíduo', 'motivado', 'ambient', 'suport', 'adequado', 'confiança', 'fazer', 'trabalho', 'melhor', 'forma', 'transmitir', 'informaçõ', 'equip', 'desenvolvimento', 'meio', 'conversa', 'face', 'face', 'softwar', 'funcionando', 'medida', 'primária', 'progresso', 'processo', 'ágei', 'promovem', 'desenvolvimento', 'sustentável', 'permitindo', 'patrocinador', 'desenvolvedor', 'usuário', 'mantenham', 'ritmo', 'constant', 'indefinidament', 'atenção', 'contínua', 'excelência', 'técnica', 'bom', 'design', 'aumenta', 'agilidad', 'simplicidad', 'essenci', 'maximizar', 'quantidad', 'trabalho', 'realizado', 'melhor', 'arquitetura', 'requisito', 'design', 'emergem', 'equip', 'equip', 'deve', 'refletir', 'regularment', 'sobr', 'tornar', 'eficaz', 'ajustar', 'comportamento', 'acordo', 'scrum', 'fadel', 'silveira', 'diz', 'scrum', 'definida', 'nenhuma', 'técnica', 'desenvolvimento', 'softwar', 'durant', 'implementação', 'verdad', 'concentra', 'descrev', 'cada', 'membro', 'equip', 'deve', 'comportar', 'durant', 'trabalho', 'tornar', 'flexível', 'ambient', 'repleto', 'mudança', 'frequent', 'filho', 'b', 'diz', 'scrum', 'possui', 'algun', 'elemento', 'apoio', 'product', 'backlog', 'backlog', 'selecionado', 'sprint', 'backlog', 'backlog', 'impedimento', 'gráfico', 'suport', 'melhor', 'organização', 'filho', 'b', 'informa', 'dentro', 'scrum', 'definido', 'algun', 'papéi', 'responsabilidad', 'atrelada', 'cada', 'indivíduo', 'envolvido', 'trabalho', 'algun', 'exemplo', 'client', 'gerent', 'equip', 'scrum', 'scrum', 'master', 'responsável', 'produto', 'fadel', 'silveira', 'ainda', 'diz', 'metodologia', 'ágil', 'scrum', 'processo', 'busca', 'realizar', 'entrega', 'maneira', 'contínua', 'ond', 'cada', 'entrega', 'definida', 'product', 'backlog', 'entrega', 'realizada', 'ciclo', 'sprint', 'prazospré', 'determinado', 'entregar', 'atividad', 'além', 'disso', 'cada', 'sprint', 'possui', 'reuniõ', 'diária', 'minuto', 'reunião', 'final', 'cada', 'sprint', 'finalizado', 'processo', 'scrum', 'pode', 'observado', 'figura', 'figura', 'ciclo', 'scrum', 'font', 'http', 'fadel', 'alin', 'silveira', 'henriqu', 'metodologia', 'ágei', 'contexto', 'desenvolvimento', 'so', 'ware', 'xp', 'scrum', 'lean', 'academia', 'acceler', 'the', 'world', 's', 'beck', 'et', 'al', 'manifesto', 'agil', 'softwar', 'develop', 'disponível', 'http', 'acesso', 'março', 'filho', 'experiência', 'desenvolvimento', 'ágil', 'instituto', 'matemática', 'estatística', 'universidad', 'paulo', 'dissertação', 'mestrado', 'guid', 'to', 'scrum', 'sprint', 'wrike', 'scrum', 'guid', 'disponível', 'http', 'acesso', 'março']\n"
          ]
        }
      ]
    },
    {
      "cell_type": "code",
      "source": [
        "# Criando um dicionário de frequência de palavras\n",
        "frequencia_palavras = nltk.FreqDist(palavras_stemmed)"
      ],
      "metadata": {
        "id": "iSYzan1AYvnW"
      },
      "execution_count": 73,
      "outputs": []
    },
    {
      "cell_type": "code",
      "source": [
        "print(frequencia_palavras)"
      ],
      "metadata": {
        "colab": {
          "base_uri": "https://localhost:8080/"
        },
        "id": "8hqqtU81ZKQT",
        "outputId": "8c0a6353-a2d3-42c7-e728-3da89a434d73"
      },
      "execution_count": 74,
      "outputs": [
        {
          "output_type": "stream",
          "name": "stdout",
          "text": [
            "<FreqDist with 256 samples and 388 outcomes>\n"
          ]
        }
      ]
    },
    {
      "cell_type": "code",
      "source": [
        "# Calculando a pontuação de cada sentença com base nas frequências das palavras\n",
        "pontuacao_sentencas = {}\n",
        "for sentenca in sentencas:\n",
        "    for palavra in word_tokenize(sentenca.lower()):\n",
        "        if palavra in palavras_sem_stopwords:\n",
        "            if sentenca not in pontuacao_sentencas:\n",
        "                pontuacao_sentencas[sentenca] = frequencia_palavras[ps.stem(palavra)]\n",
        "            else:\n",
        "                pontuacao_sentencas[sentenca] += frequencia_palavras[ps.stem(palavra)]"
      ],
      "metadata": {
        "id": "YoxOXqvEYzNb"
      },
      "execution_count": 75,
      "outputs": []
    },
    {
      "cell_type": "code",
      "source": [
        "print(pontuacao_sentencas)"
      ],
      "metadata": {
        "colab": {
          "base_uri": "https://localhost:8080/"
        },
        "id": "Ne055JE7ZN6r",
        "outputId": "e53cf2e1-a269-4627-fdf5-17602f900d28"
      },
      "execution_count": 76,
      "outputs": [
        {
          "output_type": "stream",
          "name": "stdout",
          "text": [
            "{'Nome: Anderson André Pereira Eleutério; RA: 015642.': 6, 'Introdução Segundo Fadel e Silveira (2010), as metodologias ágeis são muito utilizadas por empresas desenvolvedoras de software que visam administrar melhor seus recursos e o tempo disponível para desenvolvimento das atividades.': 53, 'Um dos objetivos que as organizações têm ao utilizar as metodologias ágeis é melhorar o fluxo do desenvolvimento de software, alocando menos recursos na produção e aumentando a eficiência das equipes, isso melhora a qualidade dos produtos desenvolvidos.': 50, 'Os mesmos autores, informam que o um encontro realizado por 17 desenvolvedores de software identificou 12 princípios e 4 premissas que estão presentes no manifesto ágil.': 29, 'As 4 premissas podem ser representados nos seguintes tópicos: ● Valorizar pessoas e interações acima de processos e ferramentas; ● Priorizar o software funcional em vez de documentação detalhada; ● Dar importância à colaboração com o cliente em vez de negociação de contratos; ● Ser adaptável às mudanças em vez de seguir um plano inicial rigidamente; Os 12 princípios de acordo com Beck, et al (2001), que foram citadas anteriormente, podem ser representadas pelos seguintes pontos: 1.': 78, 'A prioridade é satisfazer o cliente entregando software com valor agregado de forma contínua e adiantada; 2.': 24, 'As mudanças nos requisitos são bem-vindas mesmo em estágios avançados de desenvolvimento.': 16, 'Processos ágeis aproveitam essas mudanças para proporcionar vantagem competitiva ao cliente; 3.': 22, 'Entregas frequentes de software funcional em períodos de poucas semanas a poucos meses, com preferência para intervalos menores; 4.': 25, 'As pessoas de negócio e desenvolvedores devem trabalhar juntos diariamente durante todo o projeto; 5.': 17, 'Os projetos devem ser construídos em torno de indivíduos motivados, com ambiente e suporte adequados e confiança para fazer o trabalho;6.': 20, 'A melhor forma de transmitir informações para e entre equipes de desenvolvimento é por meio de conversas face a face; 7.': 28, 'Software funcionando é a medida primária de progresso; 8.': 13, 'Processos ágeis promovem desenvolvimento sustentável, permitindo que patrocinadores, desenvolvedores e usuários mantenham um ritmo constante indefinidamente; 9.': 30, 'A atenção contínua à excelência técnica e ao bom design aumenta a agilidade; 10.': 12, 'A simplicidade é essencial para maximizar a quantidade de trabalho não realizado; 11.': 10, 'As melhores arquiteturas, requisitos e designs emergem de equipes auto-organizáveis; 12.': 16, 'A equipe deve refletir regularmente sobre como se tornar mais eficaz e ajustar seu comportamento de acordo.': 18, 'Scrum Fadel e Silveira (2010) diz que no Scrum, não é definida nenhuma técnica para o desenvolvimento de software durante sua implementação, na verdade, ele se concentra em descrever como cada membro da equipe deve se comportar durante o trabalho para se tornar flexível, já que o ambiente é repleto de mudanças frequentes.': 98, 'Filho, D. L. B.': 5, '(2008) diz que o Scrum possui alguns elementos de apoio, como: product backlog , backlog selecionado, sprint backlog , backlog de impedimentos e gráficos de suporte.': 54, 'Para uma melhor organização, Filho, D. L. B.': 10, '( 2008) informa que dentro do Scrum são definidos alguns papéis e responsabilidades que são atreladas a cada indivíduo que esteja envolvido no trabalho, alguns exemplos, são: cliente, gerente, equipe Scrum, Scrum Master e o responsável pelo produto.': 76, 'Fadel e Silveira ( 2010) ainda diz que a metodologia ágil Scrum tem um processo que busca realizar entregas de maneira contínua, onde cada entrega é definida pelo product backlog e as entregas são realizadas em ciclos de sprint que são os prazospré determinados para entregar as atividades.': 82, 'Além disso, cada sprint possui reuniões diárias de até 10 minutos e uma reunião final quando cada sprint é finalizado.': 30, 'O processo do Scrum pode ser observado na figura 1.': 21, 'Figura 01 - Ciclo do Scrum Fonte: https://www.wrike.com/scrum-guide/scrum-sprints/ FADEL, Aline; SILVEIRA, Henrique.': 30, 'Metodologias ágeis no contexto de desenvolvimento de so ware: XP, Scrum e Lean.': 34, 'Academia - Accelerating the world‘s research., ceset.unicamp.br , 2012.': 5, 'BECK, K., et al.': 6, ': Manifesto for Agile Software Development.': 13, 'Disponível em <http://www .agilemanifesto.o.org>.': 6, 'Acesso em Março de 2023.': 4, 'FILHO, D. L. B. Experiências com desenvolvimento ágil.': 15, 'Instituto de Matemática e Estatística da Universidade de São Paulo (Dissertação de Mestrado).': 7, 'Guide to Scrum Sprints | Wrike Scrum Guide.': 35, 'Disponível em: https://www .wrike.com/scrum-guide/scrum-sprints/.': 6, 'Acesso em 06 de março de 2023.': 4}\n"
          ]
        }
      ]
    },
    {
      "cell_type": "code",
      "source": [
        "# Selecionando as melhores sentenças com base nas maiores pontuações\n",
        "melhores_sentencas = heapq.nlargest(3, pontuacao_sentencas, key=pontuacao_sentencas.get)\n",
        "resumo = ' '.join(melhores_sentencas)"
      ],
      "metadata": {
        "id": "S8gM0344Y2H7"
      },
      "execution_count": 77,
      "outputs": []
    },
    {
      "cell_type": "code",
      "source": [
        "print(melhores_sentencas)"
      ],
      "metadata": {
        "colab": {
          "base_uri": "https://localhost:8080/"
        },
        "id": "hV-ax-RZZSaE",
        "outputId": "271ab3c0-6bfe-494f-ee8d-7ffad2875582"
      },
      "execution_count": 78,
      "outputs": [
        {
          "output_type": "stream",
          "name": "stdout",
          "text": [
            "['Scrum Fadel e Silveira (2010) diz que no Scrum, não é definida nenhuma técnica para o desenvolvimento de software durante sua implementação, na verdade, ele se concentra em descrever como cada membro da equipe deve se comportar durante o trabalho para se tornar flexível, já que o ambiente é repleto de mudanças frequentes.', 'Fadel e Silveira ( 2010) ainda diz que a metodologia ágil Scrum tem um processo que busca realizar entregas de maneira contínua, onde cada entrega é definida pelo product backlog e as entregas são realizadas em ciclos de sprint que são os prazospré determinados para entregar as atividades.', 'As 4 premissas podem ser representados nos seguintes tópicos: ● Valorizar pessoas e interações acima de processos e ferramentas; ● Priorizar o software funcional em vez de documentação detalhada; ● Dar importância à colaboração com o cliente em vez de negociação de contratos; ● Ser adaptável às mudanças em vez de seguir um plano inicial rigidamente; Os 12 princípios de acordo com Beck, et al (2001), que foram citadas anteriormente, podem ser representadas pelos seguintes pontos: 1.']\n"
          ]
        }
      ]
    },
    {
      "cell_type": "code",
      "source": [
        "# Imprimindo o resumo gerado\n",
        "print(\"Resumo: \", resumo)"
      ],
      "metadata": {
        "colab": {
          "base_uri": "https://localhost:8080/"
        },
        "id": "bkCN8n2-Y4tK",
        "outputId": "32da0b61-b2fb-4915-99df-ab690ddc0988"
      },
      "execution_count": 79,
      "outputs": [
        {
          "output_type": "stream",
          "name": "stdout",
          "text": [
            "Resumo:  Scrum Fadel e Silveira (2010) diz que no Scrum, não é definida nenhuma técnica para o desenvolvimento de software durante sua implementação, na verdade, ele se concentra em descrever como cada membro da equipe deve se comportar durante o trabalho para se tornar flexível, já que o ambiente é repleto de mudanças frequentes. Fadel e Silveira ( 2010) ainda diz que a metodologia ágil Scrum tem um processo que busca realizar entregas de maneira contínua, onde cada entrega é definida pelo product backlog e as entregas são realizadas em ciclos de sprint que são os prazospré determinados para entregar as atividades. As 4 premissas podem ser representados nos seguintes tópicos: ● Valorizar pessoas e interações acima de processos e ferramentas; ● Priorizar o software funcional em vez de documentação detalhada; ● Dar importância à colaboração com o cliente em vez de negociação de contratos; ● Ser adaptável às mudanças em vez de seguir um plano inicial rigidamente; Os 12 princípios de acordo com Beck, et al (2001), que foram citadas anteriormente, podem ser representadas pelos seguintes pontos: 1.\n"
          ]
        }
      ]
    }
  ]
}