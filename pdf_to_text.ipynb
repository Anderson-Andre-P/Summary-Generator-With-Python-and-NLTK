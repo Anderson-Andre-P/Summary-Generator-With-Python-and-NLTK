{
  "nbformat": 4,
  "nbformat_minor": 0,
  "metadata": {
    "colab": {
      "provenance": [],
      "include_colab_link": true
    },
    "kernelspec": {
      "name": "python3",
      "display_name": "Python 3"
    },
    "language_info": {
      "name": "python"
    }
  },
  "cells": [
    {
      "cell_type": "markdown",
      "metadata": {
        "id": "view-in-github",
        "colab_type": "text"
      },
      "source": [
        "<a href=\"https://colab.research.google.com/github/Anderson-Andre-P/Summary-Generator-With-Python-and-NLTK/blob/main/pdf_to_text.ipynb\" target=\"_parent\"><img src=\"https://colab.research.google.com/assets/colab-badge.svg\" alt=\"Open In Colab\"/></a>"
      ]
    },
    {
      "cell_type": "code",
      "source": [
        "!pip install PyPDF2"
      ],
      "metadata": {
        "colab": {
          "base_uri": "https://localhost:8080/"
        },
        "id": "rhO8UiFMN8jD",
        "outputId": "87288b12-63f7-4c35-a2d5-eeb23892c525"
      },
      "execution_count": 1,
      "outputs": [
        {
          "output_type": "stream",
          "name": "stdout",
          "text": [
            "Looking in indexes: https://pypi.org/simple, https://us-python.pkg.dev/colab-wheels/public/simple/\n",
            "Collecting PyPDF2\n",
            "  Downloading pypdf2-3.0.1-py3-none-any.whl (232 kB)\n",
            "\u001b[2K     \u001b[90m━━━━━━━━━━━━━━━━━━━━━━━━━━━━━━━━━━━━━━━\u001b[0m \u001b[32m232.6/232.6 KB\u001b[0m \u001b[31m6.3 MB/s\u001b[0m eta \u001b[36m0:00:00\u001b[0m\n",
            "\u001b[?25hRequirement already satisfied: typing_extensions>=3.10.0.0 in /usr/local/lib/python3.9/dist-packages (from PyPDF2) (4.5.0)\n",
            "Installing collected packages: PyPDF2\n",
            "Successfully installed PyPDF2-3.0.1\n"
          ]
        }
      ]
    },
    {
      "cell_type": "code",
      "source": [
        "!pip install reportlab"
      ],
      "metadata": {
        "colab": {
          "base_uri": "https://localhost:8080/",
          "height": 329
        },
        "id": "vgKi-1ab6lOn",
        "outputId": "dfbeb13c-50ca-4707-a3f1-c60f7c4fc444"
      },
      "execution_count": 2,
      "outputs": [
        {
          "output_type": "stream",
          "name": "stdout",
          "text": [
            "Looking in indexes: https://pypi.org/simple, https://us-python.pkg.dev/colab-wheels/public/simple/\n",
            "Collecting reportlab\n",
            "  Downloading reportlab-3.6.12-cp39-cp39-manylinux_2_17_x86_64.manylinux2014_x86_64.whl (2.8 MB)\n",
            "\u001b[2K     \u001b[90m━━━━━━━━━━━━━━━━━━━━━━━━━━━━━━━━━━━━━━━━\u001b[0m \u001b[32m2.8/2.8 MB\u001b[0m \u001b[31m31.0 MB/s\u001b[0m eta \u001b[36m0:00:00\u001b[0m\n",
            "\u001b[?25hCollecting pillow>=9.0.0\n",
            "  Downloading Pillow-9.4.0-cp39-cp39-manylinux_2_28_x86_64.whl (3.4 MB)\n",
            "\u001b[2K     \u001b[90m━━━━━━━━━━━━━━━━━━━━━━━━━━━━━━━━━━━━━━━━\u001b[0m \u001b[32m3.4/3.4 MB\u001b[0m \u001b[31m84.3 MB/s\u001b[0m eta \u001b[36m0:00:00\u001b[0m\n",
            "\u001b[?25hInstalling collected packages: pillow, reportlab\n",
            "  Attempting uninstall: pillow\n",
            "    Found existing installation: Pillow 8.4.0\n",
            "    Uninstalling Pillow-8.4.0:\n",
            "      Successfully uninstalled Pillow-8.4.0\n",
            "Successfully installed pillow-9.4.0 reportlab-3.6.12\n"
          ]
        },
        {
          "output_type": "display_data",
          "data": {
            "application/vnd.colab-display-data+json": {
              "pip_warning": {
                "packages": [
                  "PIL"
                ]
              }
            }
          },
          "metadata": {}
        }
      ]
    },
    {
      "cell_type": "code",
      "execution_count": 1,
      "metadata": {
        "id": "AxyzYwvINzKY",
        "colab": {
          "base_uri": "https://localhost:8080/"
        },
        "outputId": "023727f5-8a87-4159-e48f-ac404df80fb6"
      },
      "outputs": [
        {
          "output_type": "stream",
          "name": "stderr",
          "text": [
            "[nltk_data] Downloading package punkt to /root/nltk_data...\n",
            "[nltk_data]   Package punkt is already up-to-date!\n",
            "[nltk_data] Downloading package stopwords to /root/nltk_data...\n",
            "[nltk_data]   Package stopwords is already up-to-date!\n"
          ]
        }
      ],
      "source": [
        "# Libs para upload de arquivo\n",
        "from google.colab import files\n",
        "\n",
        "# Libs para sumarização\n",
        "import nltk\n",
        "nltk.download('punkt')\n",
        "nltk.download('stopwords')\n",
        "import heapq\n",
        "from nltk.corpus import stopwords\n",
        "from nltk.tokenize import word_tokenize, sent_tokenize\n",
        "from nltk.stem import PorterStemmer\n",
        "\n",
        "# Libs para extração de palavras\n",
        "import PyPDF2\n",
        "from PyPDF2 import PdfReader\n",
        "\n",
        "# Libs para limpeza de strings\n",
        "import re\n",
        "\n",
        "# Libs para geração de PDF\n",
        "import io\n",
        "from reportlab.pdfgen import canvas\n",
        "import textwrap"
      ]
    },
    {
      "cell_type": "code",
      "source": [
        "uploaded = files.upload()"
      ],
      "metadata": {
        "colab": {
          "base_uri": "https://localhost:8080/",
          "height": 73
        },
        "id": "evhaBAPLpeCr",
        "outputId": "a29f5331-8f35-4c3d-c902-16ba14d99a71"
      },
      "execution_count": 2,
      "outputs": [
        {
          "output_type": "display_data",
          "data": {
            "text/plain": [
              "<IPython.core.display.HTML object>"
            ],
            "text/html": [
              "\n",
              "     <input type=\"file\" id=\"files-fd46fe7d-c36d-4fb4-9540-4059b5c80e8c\" name=\"files[]\" multiple disabled\n",
              "        style=\"border:none\" />\n",
              "     <output id=\"result-fd46fe7d-c36d-4fb4-9540-4059b5c80e8c\">\n",
              "      Upload widget is only available when the cell has been executed in the\n",
              "      current browser session. Please rerun this cell to enable.\n",
              "      </output>\n",
              "      <script>// Copyright 2017 Google LLC\n",
              "//\n",
              "// Licensed under the Apache License, Version 2.0 (the \"License\");\n",
              "// you may not use this file except in compliance with the License.\n",
              "// You may obtain a copy of the License at\n",
              "//\n",
              "//      http://www.apache.org/licenses/LICENSE-2.0\n",
              "//\n",
              "// Unless required by applicable law or agreed to in writing, software\n",
              "// distributed under the License is distributed on an \"AS IS\" BASIS,\n",
              "// WITHOUT WARRANTIES OR CONDITIONS OF ANY KIND, either express or implied.\n",
              "// See the License for the specific language governing permissions and\n",
              "// limitations under the License.\n",
              "\n",
              "/**\n",
              " * @fileoverview Helpers for google.colab Python module.\n",
              " */\n",
              "(function(scope) {\n",
              "function span(text, styleAttributes = {}) {\n",
              "  const element = document.createElement('span');\n",
              "  element.textContent = text;\n",
              "  for (const key of Object.keys(styleAttributes)) {\n",
              "    element.style[key] = styleAttributes[key];\n",
              "  }\n",
              "  return element;\n",
              "}\n",
              "\n",
              "// Max number of bytes which will be uploaded at a time.\n",
              "const MAX_PAYLOAD_SIZE = 100 * 1024;\n",
              "\n",
              "function _uploadFiles(inputId, outputId) {\n",
              "  const steps = uploadFilesStep(inputId, outputId);\n",
              "  const outputElement = document.getElementById(outputId);\n",
              "  // Cache steps on the outputElement to make it available for the next call\n",
              "  // to uploadFilesContinue from Python.\n",
              "  outputElement.steps = steps;\n",
              "\n",
              "  return _uploadFilesContinue(outputId);\n",
              "}\n",
              "\n",
              "// This is roughly an async generator (not supported in the browser yet),\n",
              "// where there are multiple asynchronous steps and the Python side is going\n",
              "// to poll for completion of each step.\n",
              "// This uses a Promise to block the python side on completion of each step,\n",
              "// then passes the result of the previous step as the input to the next step.\n",
              "function _uploadFilesContinue(outputId) {\n",
              "  const outputElement = document.getElementById(outputId);\n",
              "  const steps = outputElement.steps;\n",
              "\n",
              "  const next = steps.next(outputElement.lastPromiseValue);\n",
              "  return Promise.resolve(next.value.promise).then((value) => {\n",
              "    // Cache the last promise value to make it available to the next\n",
              "    // step of the generator.\n",
              "    outputElement.lastPromiseValue = value;\n",
              "    return next.value.response;\n",
              "  });\n",
              "}\n",
              "\n",
              "/**\n",
              " * Generator function which is called between each async step of the upload\n",
              " * process.\n",
              " * @param {string} inputId Element ID of the input file picker element.\n",
              " * @param {string} outputId Element ID of the output display.\n",
              " * @return {!Iterable<!Object>} Iterable of next steps.\n",
              " */\n",
              "function* uploadFilesStep(inputId, outputId) {\n",
              "  const inputElement = document.getElementById(inputId);\n",
              "  inputElement.disabled = false;\n",
              "\n",
              "  const outputElement = document.getElementById(outputId);\n",
              "  outputElement.innerHTML = '';\n",
              "\n",
              "  const pickedPromise = new Promise((resolve) => {\n",
              "    inputElement.addEventListener('change', (e) => {\n",
              "      resolve(e.target.files);\n",
              "    });\n",
              "  });\n",
              "\n",
              "  const cancel = document.createElement('button');\n",
              "  inputElement.parentElement.appendChild(cancel);\n",
              "  cancel.textContent = 'Cancel upload';\n",
              "  const cancelPromise = new Promise((resolve) => {\n",
              "    cancel.onclick = () => {\n",
              "      resolve(null);\n",
              "    };\n",
              "  });\n",
              "\n",
              "  // Wait for the user to pick the files.\n",
              "  const files = yield {\n",
              "    promise: Promise.race([pickedPromise, cancelPromise]),\n",
              "    response: {\n",
              "      action: 'starting',\n",
              "    }\n",
              "  };\n",
              "\n",
              "  cancel.remove();\n",
              "\n",
              "  // Disable the input element since further picks are not allowed.\n",
              "  inputElement.disabled = true;\n",
              "\n",
              "  if (!files) {\n",
              "    return {\n",
              "      response: {\n",
              "        action: 'complete',\n",
              "      }\n",
              "    };\n",
              "  }\n",
              "\n",
              "  for (const file of files) {\n",
              "    const li = document.createElement('li');\n",
              "    li.append(span(file.name, {fontWeight: 'bold'}));\n",
              "    li.append(span(\n",
              "        `(${file.type || 'n/a'}) - ${file.size} bytes, ` +\n",
              "        `last modified: ${\n",
              "            file.lastModifiedDate ? file.lastModifiedDate.toLocaleDateString() :\n",
              "                                    'n/a'} - `));\n",
              "    const percent = span('0% done');\n",
              "    li.appendChild(percent);\n",
              "\n",
              "    outputElement.appendChild(li);\n",
              "\n",
              "    const fileDataPromise = new Promise((resolve) => {\n",
              "      const reader = new FileReader();\n",
              "      reader.onload = (e) => {\n",
              "        resolve(e.target.result);\n",
              "      };\n",
              "      reader.readAsArrayBuffer(file);\n",
              "    });\n",
              "    // Wait for the data to be ready.\n",
              "    let fileData = yield {\n",
              "      promise: fileDataPromise,\n",
              "      response: {\n",
              "        action: 'continue',\n",
              "      }\n",
              "    };\n",
              "\n",
              "    // Use a chunked sending to avoid message size limits. See b/62115660.\n",
              "    let position = 0;\n",
              "    do {\n",
              "      const length = Math.min(fileData.byteLength - position, MAX_PAYLOAD_SIZE);\n",
              "      const chunk = new Uint8Array(fileData, position, length);\n",
              "      position += length;\n",
              "\n",
              "      const base64 = btoa(String.fromCharCode.apply(null, chunk));\n",
              "      yield {\n",
              "        response: {\n",
              "          action: 'append',\n",
              "          file: file.name,\n",
              "          data: base64,\n",
              "        },\n",
              "      };\n",
              "\n",
              "      let percentDone = fileData.byteLength === 0 ?\n",
              "          100 :\n",
              "          Math.round((position / fileData.byteLength) * 100);\n",
              "      percent.textContent = `${percentDone}% done`;\n",
              "\n",
              "    } while (position < fileData.byteLength);\n",
              "  }\n",
              "\n",
              "  // All done.\n",
              "  yield {\n",
              "    response: {\n",
              "      action: 'complete',\n",
              "    }\n",
              "  };\n",
              "}\n",
              "\n",
              "scope.google = scope.google || {};\n",
              "scope.google.colab = scope.google.colab || {};\n",
              "scope.google.colab._files = {\n",
              "  _uploadFiles,\n",
              "  _uploadFilesContinue,\n",
              "};\n",
              "})(self);\n",
              "</script> "
            ]
          },
          "metadata": {}
        },
        {
          "output_type": "stream",
          "name": "stdout",
          "text": [
            "Saving Resenha Artigo - Anderson André.pdf to Resenha Artigo - Anderson André (1).pdf\n"
          ]
        }
      ]
    },
    {
      "cell_type": "code",
      "source": [
        "# Abrindo o arquivo PDF enviado\n",
        "pdf_file = open('/content/Resenha Artigo - Anderson André.pdf', 'rb')\n",
        "pdf_reader = PyPDF2.PdfReader(pdf_file)"
      ],
      "metadata": {
        "id": "Yrir0MtIQbvT"
      },
      "execution_count": 3,
      "outputs": []
    },
    {
      "cell_type": "code",
      "source": [
        "pdf_text = \"\""
      ],
      "metadata": {
        "id": "m5eYz_zxQrCT"
      },
      "execution_count": 4,
      "outputs": []
    },
    {
      "cell_type": "code",
      "source": [
        "# Lendo o arquivo PDF enviado e extraindo as palavras\n",
        "reader = PdfReader('/content/Resenha Artigo - Anderson André.pdf')\n",
        "for page in reader.pages:\n",
        "    pdf_text += page.extract_text()\n",
        "    # print(page.extract_text())"
      ],
      "metadata": {
        "id": "Eqij9XbfQufD"
      },
      "execution_count": 5,
      "outputs": []
    },
    {
      "cell_type": "code",
      "source": [
        "# Quantidade de páginas do PDF\n",
        "print(f\"pdf page count : {len(reader.pages)}\")"
      ],
      "metadata": {
        "colab": {
          "base_uri": "https://localhost:8080/"
        },
        "id": "K5bOyRH9RWol",
        "outputId": "3658240f-796b-40a6-f15d-122ecd515caf"
      },
      "execution_count": 6,
      "outputs": [
        {
          "output_type": "stream",
          "name": "stdout",
          "text": [
            "pdf page count : 3\n"
          ]
        }
      ]
    },
    {
      "cell_type": "code",
      "source": [
        "# Juntando as palavras em uma variável\n",
        "pdf_text = ' '.join(pdf_text.split())"
      ],
      "metadata": {
        "id": "3KFDFgfpZja0"
      },
      "execution_count": 7,
      "outputs": []
    },
    {
      "cell_type": "code",
      "source": [
        "print(pdf_text)"
      ],
      "metadata": {
        "colab": {
          "base_uri": "https://localhost:8080/"
        },
        "id": "PtymfhGkZls8",
        "outputId": "5a49f6f6-c9c9-40f4-94de-fb5fd9d83537"
      },
      "execution_count": 8,
      "outputs": [
        {
          "output_type": "stream",
          "name": "stdout",
          "text": [
            "Nome: Anderson André Pereira Eleutério; RA: 015642. 1. Introdução Segundo Fadel e Silveira (2010), as metodologias ágeis são muito utilizadas por empresas desenvolvedoras de software que visam administrar melhor seus recursos e o tempo disponível para desenvolvimento das atividades. Um dos objetivos que as organizações têm ao utilizar as metodologias ágeis é melhorar o fluxo do desenvolvimento de software, alocando menos recursos na produção e aumentando a eficiência das equipes, isso melhora a qualidade dos produtos desenvolvidos. Os mesmos autores, informam que o um encontro realizado por 17 desenvolvedores de software identificou 12 princípios e 4 premissas que estão presentes no manifesto ágil. As 4 premissas podem ser representados nos seguintes tópicos: ● Valorizar pessoas e interações acima de processos e ferramentas; ● Priorizar o software funcional em vez de documentação detalhada; ● Dar importância à colaboração com o cliente em vez de negociação de contratos; ● Ser adaptável às mudanças em vez de seguir um plano inicial rigidamente; Os 12 princípios de acordo com Beck, et al (2001), que foram citadas anteriormente, podem ser representadas pelos seguintes pontos: 1. A prioridade é satisfazer o cliente entregando software com valor agregado de forma contínua e adiantada; 2. As mudanças nos requisitos são bem-vindas mesmo em estágios avançados de desenvolvimento. Processos ágeis aproveitam essas mudanças para proporcionar vantagem competitiva ao cliente; 3. Entregas frequentes de software funcional em períodos de poucas semanas a poucos meses, com preferência para intervalos menores; 4. As pessoas de negócio e desenvolvedores devem trabalhar juntos diariamente durante todo o projeto; 5. Os projetos devem ser construídos em torno de indivíduos motivados, com ambiente e suporte adequados e confiança para fazer o trabalho;6. A melhor forma de transmitir informações para e entre equipes de desenvolvimento é por meio de conversas face a face; 7. Software funcionando é a medida primária de progresso; 8. Processos ágeis promovem desenvolvimento sustentável, permitindo que patrocinadores, desenvolvedores e usuários mantenham um ritmo constante indefinidamente; 9. A atenção contínua à excelência técnica e ao bom design aumenta a agilidade; 10. A simplicidade é essencial para maximizar a quantidade de trabalho não realizado; 11. As melhores arquiteturas, requisitos e designs emergem de equipes auto-organizáveis; 12. A equipe deve refletir regularmente sobre como se tornar mais eficaz e ajustar seu comportamento de acordo. 1.1. Scrum Fadel e Silveira (2010) diz que no Scrum, não é definida nenhuma técnica para o desenvolvimento de software durante sua implementação, na verdade, ele se concentra em descrever como cada membro da equipe deve se comportar durante o trabalho para se tornar flexível, já que o ambiente é repleto de mudanças frequentes. Filho, D. L. B. (2008) diz que o Scrum possui alguns elementos de apoio, como: product backlog , backlog selecionado, sprint backlog , backlog de impedimentos e gráficos de suporte. Para uma melhor organização, Filho, D. L. B. ( 2008) informa que dentro do Scrum são definidos alguns papéis e responsabilidades que são atreladas a cada indivíduo que esteja envolvido no trabalho, alguns exemplos, são: cliente, gerente, equipe Scrum, Scrum Master e o responsável pelo produto. Fadel e Silveira ( 2010) ainda diz que a metodologia ágil Scrum tem um processo que busca realizar entregas de maneira contínua, onde cada entrega é definida pelo product backlog e as entregas são realizadas em ciclos de sprint que são os prazospré determinados para entregar as atividades. Além disso, cada sprint possui reuniões diárias de até 10 minutos e uma reunião final quando cada sprint é finalizado. O processo do Scrum pode ser observado na figura 1. Figura 01 - Ciclo do Scrum Fonte: https://www.wrike.com/scrum-guide/scrum-sprints/ FADEL, Aline; SILVEIRA, Henrique. Metodologias ágeis no contexto de desenvolvimento de so ware: XP, Scrum e Lean. Academia - Accelerating the world‘s research., ceset.unicamp.br , 2012. BECK, K., et al.: Manifesto for Agile Software Development. 2001. Disponível em <http://www .agilemanifesto.o.org>. Acesso em Março de 2023. FILHO, D. L. B. Experiências com desenvolvimento ágil. Instituto de Matemática e Estatística da Universidade de São Paulo (Dissertação de Mestrado). 2008. Guide to Scrum Sprints | Wrike Scrum Guide. Disponível em: https://www .wrike.com/scrum-guide/scrum-sprints/. Acesso em 06 de março de 2023.\n"
          ]
        }
      ]
    },
    {
      "cell_type": "code",
      "source": [
        "# Removendo tudo que não é alphanumerico\n",
        "pdf_text = re.sub(r'[^\\w\\s]', '', pdf_text)\n",
        "# re.sub('[^A-Za-z0-9]+', ' ', pdf_text)"
      ],
      "metadata": {
        "id": "j3JD8foTYhzs"
      },
      "execution_count": 9,
      "outputs": []
    },
    {
      "cell_type": "code",
      "source": [
        "# Removendo todos os números\n",
        "pdf_text = re.sub(r'[0-9]', ' ', pdf_text)\n",
        "\n",
        "# Removendo espaços duplicados\n",
        "pdf_text = re.sub(r' +', ' ', pdf_text)\n",
        "\n",
        "# # Removendo palavras específicas\n",
        "# pdf_text = re.sub(r'\\Disponível em', ' ', pdf_text)\n",
        "# pdf_text = re.sub(r'\\Acesso em', ' ', pdf_text)"
      ],
      "metadata": {
        "id": "5pZ8Fb10Zy0T"
      },
      "execution_count": 10,
      "outputs": []
    },
    {
      "cell_type": "code",
      "source": [
        "# Tokenizando o texto em sentenças e palavras\n",
        "sentencas = sent_tokenize(pdf_text)\n",
        "palavras = word_tokenize(pdf_text.lower())"
      ],
      "metadata": {
        "id": "_UgmFZyUYbaF"
      },
      "execution_count": 11,
      "outputs": []
    },
    {
      "cell_type": "code",
      "source": [
        "# Removendo as stopwords e pontuações\n",
        "stop_words = set(stopwords.words('portuguese'))\n",
        "palavras_sem_stopwords = [palavra for palavra in palavras if palavra not in stop_words and palavra.isalpha()]"
      ],
      "metadata": {
        "id": "TNBuOsQHYibx"
      },
      "execution_count": 12,
      "outputs": []
    },
    {
      "cell_type": "code",
      "source": [
        "# Aplicando o stemmer para reduzir as palavras para sua raiz\n",
        "ps = PorterStemmer()\n",
        "palavras_stemmed = [ps.stem(palavra) for palavra in palavras_sem_stopwords]"
      ],
      "metadata": {
        "id": "N-kc6jlfYsRd"
      },
      "execution_count": 13,
      "outputs": []
    },
    {
      "cell_type": "code",
      "source": [
        "# Criando um dicionário de frequência de palavras\n",
        "frequencia_palavras = nltk.FreqDist(palavras_stemmed)"
      ],
      "metadata": {
        "id": "iSYzan1AYvnW"
      },
      "execution_count": 14,
      "outputs": []
    },
    {
      "cell_type": "code",
      "source": [
        "# Calculando a pontuação de cada sentença com base nas frequências das palavras\n",
        "pontuacao_sentencas = {}\n",
        "for sentenca in sentencas:\n",
        "    for palavra in word_tokenize(sentenca.lower()):\n",
        "        if palavra in palavras_sem_stopwords:\n",
        "            if sentenca not in pontuacao_sentencas:\n",
        "                pontuacao_sentencas[sentenca] = frequencia_palavras[ps.stem(palavra)]\n",
        "            else:\n",
        "                pontuacao_sentencas[sentenca] += frequencia_palavras[ps.stem(palavra)]"
      ],
      "metadata": {
        "id": "YoxOXqvEYzNb"
      },
      "execution_count": 15,
      "outputs": []
    },
    {
      "cell_type": "code",
      "source": [
        "# Selecionando as melhores sentenças com base nas maiores pontuações\n",
        "melhores_sentencas = heapq.nlargest(100, pontuacao_sentencas, key=pontuacao_sentencas.get)\n",
        "resumo = ' '.join(melhores_sentencas)"
      ],
      "metadata": {
        "id": "S8gM0344Y2H7"
      },
      "execution_count": 16,
      "outputs": []
    },
    {
      "cell_type": "code",
      "source": [
        "# Imprimindo o resumo gerado\n",
        "print(\"Resumo: \", resumo)"
      ],
      "metadata": {
        "colab": {
          "base_uri": "https://localhost:8080/"
        },
        "id": "bkCN8n2-Y4tK",
        "outputId": "bd7da3ac-f875-4242-98e2-61477105191e"
      },
      "execution_count": 17,
      "outputs": [
        {
          "output_type": "stream",
          "name": "stdout",
          "text": [
            "Resumo:  Nome Anderson André Pereira Eleutério RA Introdução Segundo Fadel e Silveira as metodologias ágeis são muito utilizadas por empresas desenvolvedoras de software que visam administrar melhor seus recursos e o tempo disponível para desenvolvimento das atividades Um dos objetivos que as organizações têm ao utilizar as metodologias ágeis é melhorar o fluxo do desenvolvimento de software alocando menos recursos na produção e aumentando a eficiência das equipes isso melhora a qualidade dos produtos desenvolvidos Os mesmos autores informam que o um encontro realizado por desenvolvedores de software identificou princípios e premissas que estão presentes no manifesto ágil As premissas podem ser representados nos seguintes tópicos Valorizar pessoas e interações acima de processos e ferramentas Priorizar o software funcional em vez de documentação detalhada Dar importância à colaboração com o cliente em vez de negociação de contratos Ser adaptável às mudanças em vez de seguir um plano inicial rigidamente Os princípios de acordo com Beck et al que foram citadas anteriormente podem ser representadas pelos seguintes pontos A prioridade é satisfazer o cliente entregando software com valor agregado de forma contínua e adiantada As mudanças nos requisitos são bemvindas mesmo em estágios avançados de desenvolvimento Processos ágeis aproveitam essas mudanças para proporcionar vantagem competitiva ao cliente Entregas frequentes de software funcional em períodos de poucas semanas a poucos meses com preferência para intervalos menores As pessoas de negócio e desenvolvedores devem trabalhar juntos diariamente durante todo o projeto Os projetos devem ser construídos em torno de indivíduos motivados com ambiente e suporte adequados e confiança para fazer o trabalho A melhor forma de transmitir informações para e entre equipes de desenvolvimento é por meio de conversas face a face Software funcionando é a medida primária de progresso Processos ágeis promovem desenvolvimento sustentável permitindo que patrocinadores desenvolvedores e usuários mantenham um ritmo constante indefinidamente A atenção contínua à excelência técnica e ao bom design aumenta a agilidade A simplicidade é essencial para maximizar a quantidade de trabalho não realizado As melhores arquiteturas requisitos e designs emergem de equipes autoorganizáveis A equipe deve refletir regularmente sobre como se tornar mais eficaz e ajustar seu comportamento de acordo Scrum Fadel e Silveira diz que no Scrum não é definida nenhuma técnica para o desenvolvimento de software durante sua implementação na verdade ele se concentra em descrever como cada membro da equipe deve se comportar durante o trabalho para se tornar flexível já que o ambiente é repleto de mudanças frequentes Filho D L B diz que o Scrum possui alguns elementos de apoio como product backlog backlog selecionado sprint backlog backlog de impedimentos e gráficos de suporte Para uma melhor organização Filho D L B informa que dentro do Scrum são definidos alguns papéis e responsabilidades que são atreladas a cada indivíduo que esteja envolvido no trabalho alguns exemplos são cliente gerente equipe Scrum Scrum Master e o responsável pelo produto Fadel e Silveira ainda diz que a metodologia ágil Scrum tem um processo que busca realizar entregas de maneira contínua onde cada entrega é definida pelo product backlog e as entregas são realizadas em ciclos de sprint que são os prazospré determinados para entregar as atividades Além disso cada sprint possui reuniões diárias de até minutos e uma reunião final quando cada sprint é finalizado O processo do Scrum pode ser observado na figura Figura Ciclo do Scrum Fonte httpswwwwrikecomscrumguidescrumsprints FADEL Aline SILVEIRA Henrique Metodologias ágeis no contexto de desenvolvimento de so ware XP Scrum e Lean Academia Accelerating the worlds research cesetunicampbr BECK K et al Manifesto for Agile Software Development   httpwww agilemanifestooorg Acesso em Março de FILHO D L B Experiências com desenvolvimento ágil Instituto de Matemática e Estatística da Universidade de São Paulo Dissertação de Mestrado Guide to Scrum Sprints Wrike Scrum Guide   httpswww wrikecomscrumguidescrumsprints Acesso em de março de\n"
          ]
        }
      ]
    },
    {
      "cell_type": "code",
      "source": [
        "def adicionar_quebras_de_linha(texto, caracteres_por_linha=75):\n",
        "    linhas = textwrap.wrap(resumo, caracteres_por_linha)\n",
        "    return \"\\n\".join(linhas)\n",
        "\n",
        "def criar_pdf(arquivo_pdf=reader, resumo=resumo, caracteres_por_linha=70):\n",
        "    buffer = io.BytesIO()\n",
        "    pdf_canvas = canvas.Canvas(buffer)\n",
        "\n",
        "    paginas_do_resumo = textwrap.wrap(resumo, caracteres_por_linha)\n",
        "\n",
        "    # linhas = texto_com_quebras_de_linha.split('\\n')\n",
        "\n",
        "    x, y = 100, 750\n",
        "\n",
        "    # desenha cada linha em uma posição diferente no canvas\n",
        "    for indice_pagina, pagina in enumerate(paginas_do_resumo):\n",
        "        # pdf_canvas.drawText(x, y, linha)\n",
        "        pdf_canvas.drawString(x, y, pagina)\n",
        "        y -= 15  # ajusta a posição da próxima linha\n",
        "        if indice_pagina < len(paginas_do_resumo) - 1 and y <= 100:\n",
        "            pdf_canvas.showPage()\n",
        "            y = 750\n",
        "\n",
        "    pdf_canvas.save()\n",
        "\n",
        "    # salva o conteúdo do objeto buffer em um arquivo PDF\n",
        "    with open(\"resumo_gerado.pdf\", \"wb\") as output_file:\n",
        "        output_file.write(buffer.getvalue())\n",
        "\n",
        "criar_pdf()"
      ],
      "metadata": {
        "id": "1g32U9XjKvht"
      },
      "execution_count": 18,
      "outputs": []
    },
    {
      "cell_type": "code",
      "source": [
        "files.download('resumo_gerado.pdf') "
      ],
      "metadata": {
        "colab": {
          "base_uri": "https://localhost:8080/",
          "height": 17
        },
        "id": "gd1PdHnNZVRd",
        "outputId": "7e51e5fa-2b37-4886-b784-c38b8b01fc00"
      },
      "execution_count": 19,
      "outputs": [
        {
          "output_type": "display_data",
          "data": {
            "text/plain": [
              "<IPython.core.display.Javascript object>"
            ],
            "application/javascript": [
              "\n",
              "    async function download(id, filename, size) {\n",
              "      if (!google.colab.kernel.accessAllowed) {\n",
              "        return;\n",
              "      }\n",
              "      const div = document.createElement('div');\n",
              "      const label = document.createElement('label');\n",
              "      label.textContent = `Downloading \"${filename}\": `;\n",
              "      div.appendChild(label);\n",
              "      const progress = document.createElement('progress');\n",
              "      progress.max = size;\n",
              "      div.appendChild(progress);\n",
              "      document.body.appendChild(div);\n",
              "\n",
              "      const buffers = [];\n",
              "      let downloaded = 0;\n",
              "\n",
              "      const channel = await google.colab.kernel.comms.open(id);\n",
              "      // Send a message to notify the kernel that we're ready.\n",
              "      channel.send({})\n",
              "\n",
              "      for await (const message of channel.messages) {\n",
              "        // Send a message to notify the kernel that we're ready.\n",
              "        channel.send({})\n",
              "        if (message.buffers) {\n",
              "          for (const buffer of message.buffers) {\n",
              "            buffers.push(buffer);\n",
              "            downloaded += buffer.byteLength;\n",
              "            progress.value = downloaded;\n",
              "          }\n",
              "        }\n",
              "      }\n",
              "      const blob = new Blob(buffers, {type: 'application/binary'});\n",
              "      const a = document.createElement('a');\n",
              "      a.href = window.URL.createObjectURL(blob);\n",
              "      a.download = filename;\n",
              "      div.appendChild(a);\n",
              "      a.click();\n",
              "      div.remove();\n",
              "    }\n",
              "  "
            ]
          },
          "metadata": {}
        },
        {
          "output_type": "display_data",
          "data": {
            "text/plain": [
              "<IPython.core.display.Javascript object>"
            ],
            "application/javascript": [
              "download(\"download_02d4ca7c-36f4-4add-a264-90066669f59b\", \"resumo_gerado.pdf\", 4850)"
            ]
          },
          "metadata": {}
        }
      ]
    }
  ]
}